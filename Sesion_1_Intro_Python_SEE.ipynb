{
  "nbformat": 4,
  "nbformat_minor": 0,
  "metadata": {
    "colab": {
      "name": "Sesion_1_Intro_Python_SEE.ipynb",
      "provenance": [],
      "collapsed_sections": [],
      "toc_visible": true,
      "include_colab_link": true
    },
    "kernelspec": {
      "name": "python3",
      "display_name": "Python 3"
    },
    "language_info": {
      "name": "python"
    }
  },
  "cells": [
    {
      "cell_type": "markdown",
      "metadata": {
        "id": "view-in-github",
        "colab_type": "text"
      },
      "source": [
        "<a href=\"https://colab.research.google.com/github/JairuMath/CursoIntroPythonparaCienciadeDatosSEE/blob/main/Sesion_1_Intro_Python_SEE.ipynb\" target=\"_parent\"><img src=\"https://colab.research.google.com/assets/colab-badge.svg\" alt=\"Open In Colab\"/></a>"
      ]
    },
    {
      "cell_type": "markdown",
      "metadata": {
        "id": "jgSSVhAdUaOb"
      },
      "source": [
        "# Sesion 1> Curso Intro a Python para Ciencia de Datos \n",
        "\n",
        "### Markdown\n",
        "\n",
        "Markdown permite **negrita**, *cursiva*, títulos, armar listas y más detalles de escritura de texto, pero mediante el uso de \"marcas\" como el # o *\n",
        "\n"
      ]
    },
    {
      "cell_type": "markdown",
      "metadata": {
        "id": "Puai7AW6XaDO"
      },
      "source": [
        "## Generalidades de Python"
      ]
    },
    {
      "cell_type": "code",
      "metadata": {
        "colab": {
          "base_uri": "https://localhost:8080/"
        },
        "id": "gc3vnP5lVNcD",
        "outputId": "5e798b2b-1ffc-4b56-9f96-da111cdadf6f"
      },
      "source": [
        "5+5 # Expresión con output"
      ],
      "execution_count": null,
      "outputs": [
        {
          "output_type": "execute_result",
          "data": {
            "text/plain": [
              "10"
            ]
          },
          "metadata": {
            "tags": []
          },
          "execution_count": 1
        }
      ]
    },
    {
      "cell_type": "code",
      "metadata": {
        "id": "Yt4U97bgTy8T"
      },
      "source": [
        "5+5; # Expresión sin salida\n"
      ],
      "execution_count": null,
      "outputs": []
    },
    {
      "cell_type": "code",
      "metadata": {
        "id": "qCbrKeYjXxly"
      },
      "source": [
        "a = 5+5 # Asigna el valor a la variable \"a\""
      ],
      "execution_count": null,
      "outputs": []
    },
    {
      "cell_type": "code",
      "metadata": {
        "colab": {
          "base_uri": "https://localhost:8080/"
        },
        "id": "zz6Avyt2YKzQ",
        "outputId": "383f3fc7-96e2-4a82-c118-59e5a1809de3"
      },
      "source": [
        "a"
      ],
      "execution_count": null,
      "outputs": [
        {
          "output_type": "execute_result",
          "data": {
            "text/plain": [
              "10"
            ]
          },
          "metadata": {
            "tags": []
          },
          "execution_count": 4
        }
      ]
    },
    {
      "cell_type": "code",
      "metadata": {
        "colab": {
          "base_uri": "https://localhost:8080/"
        },
        "id": "iAuLjREiYMeu",
        "outputId": "63786232-0737-4cec-e658-24dac792aedf"
      },
      "source": [
        "a= 2; b= 1; a + b"
      ],
      "execution_count": null,
      "outputs": [
        {
          "output_type": "execute_result",
          "data": {
            "text/plain": [
              "3"
            ]
          },
          "metadata": {
            "tags": []
          },
          "execution_count": 5
        }
      ]
    },
    {
      "cell_type": "code",
      "metadata": {
        "colab": {
          "base_uri": "https://localhost:8080/"
        },
        "id": "sRkG2aFcYi_G",
        "outputId": "aea0a6ff-fa05-4e21-8060-330276e916a3"
      },
      "source": [
        "2 + 3*5 # operaciones básicas"
      ],
      "execution_count": null,
      "outputs": [
        {
          "output_type": "execute_result",
          "data": {
            "text/plain": [
              "17"
            ]
          },
          "metadata": {
            "tags": []
          },
          "execution_count": 6
        }
      ]
    },
    {
      "cell_type": "code",
      "metadata": {
        "colab": {
          "base_uri": "https://localhost:8080/"
        },
        "id": "ieqxYS92Y2-3",
        "outputId": "4524b7a5-2f89-4187-89cf-474d9e393323"
      },
      "source": [
        "7 // 3 # division entera"
      ],
      "execution_count": null,
      "outputs": [
        {
          "output_type": "execute_result",
          "data": {
            "text/plain": [
              "2"
            ]
          },
          "metadata": {
            "tags": []
          },
          "execution_count": 7
        }
      ]
    },
    {
      "cell_type": "code",
      "metadata": {
        "colab": {
          "base_uri": "https://localhost:8080/"
        },
        "id": "GTWc4DDqY43X",
        "outputId": "5ad19988-2a1d-48c7-c2a6-fa06777c0db6"
      },
      "source": [
        "7 % 3 # Modular"
      ],
      "execution_count": null,
      "outputs": [
        {
          "output_type": "execute_result",
          "data": {
            "text/plain": [
              "1"
            ]
          },
          "metadata": {
            "tags": []
          },
          "execution_count": 8
        }
      ]
    },
    {
      "cell_type": "code",
      "metadata": {
        "colab": {
          "base_uri": "https://localhost:8080/"
        },
        "id": "NFmlphr6Y_KY",
        "outputId": "7c312590-e42a-4681-8e69-68993ed98543"
      },
      "source": [
        "pow(2, 3) # 2 elevado al cubo"
      ],
      "execution_count": null,
      "outputs": [
        {
          "output_type": "execute_result",
          "data": {
            "text/plain": [
              "8"
            ]
          },
          "metadata": {
            "tags": []
          },
          "execution_count": 9
        }
      ]
    },
    {
      "cell_type": "code",
      "metadata": {
        "colab": {
          "base_uri": "https://localhost:8080/"
        },
        "id": "EGM4RwpaZE3L",
        "outputId": "84c4919f-1a46-46af-c3fb-0649b4f7747b"
      },
      "source": [
        "2**3"
      ],
      "execution_count": null,
      "outputs": [
        {
          "output_type": "execute_result",
          "data": {
            "text/plain": [
              "8"
            ]
          },
          "metadata": {
            "tags": []
          },
          "execution_count": 12
        }
      ]
    },
    {
      "cell_type": "code",
      "metadata": {
        "id": "lKPAEIGDZI4k"
      },
      "source": [
        "import math\n"
      ],
      "execution_count": null,
      "outputs": []
    },
    {
      "cell_type": "code",
      "metadata": {
        "colab": {
          "base_uri": "https://localhost:8080/"
        },
        "id": "oeUobSK1ZH-w",
        "outputId": "7c3a16cb-9a88-4e66-b99e-c9a492a45118"
      },
      "source": [
        "math.floor(2.3) # Funcion piso\n"
      ],
      "execution_count": null,
      "outputs": [
        {
          "output_type": "execute_result",
          "data": {
            "text/plain": [
              "2"
            ]
          },
          "metadata": {
            "tags": []
          },
          "execution_count": 14
        }
      ]
    },
    {
      "cell_type": "code",
      "metadata": {
        "colab": {
          "base_uri": "https://localhost:8080/"
        },
        "id": "2haIcROKZFsy",
        "outputId": "02e51b1f-b11f-4994-d4b9-25d8cd35be6f"
      },
      "source": [
        "math.fabs(-5) # valor absoluto\n"
      ],
      "execution_count": null,
      "outputs": [
        {
          "output_type": "execute_result",
          "data": {
            "text/plain": [
              "5.0"
            ]
          },
          "metadata": {
            "tags": []
          },
          "execution_count": 15
        }
      ]
    },
    {
      "cell_type": "code",
      "metadata": {
        "colab": {
          "base_uri": "https://localhost:8080/"
        },
        "id": "YpFnh2sLapz2",
        "outputId": "8fb8d1e1-7167-4df9-f012-9b84ffc2c3b4"
      },
      "source": [
        "math.factorial(3) # Factorial\n",
        "# 3! = 3 x 2"
      ],
      "execution_count": null,
      "outputs": [
        {
          "output_type": "execute_result",
          "data": {
            "text/plain": [
              "6"
            ]
          },
          "metadata": {
            "tags": []
          },
          "execution_count": 16
        }
      ]
    },
    {
      "cell_type": "markdown",
      "metadata": {
        "id": "RnxsHsgvbl_Z"
      },
      "source": [
        "## CASO RETAIL ONLINE\n",
        "\n",
        "### 1ro: Cargar paquetes a usar\n"
      ]
    },
    {
      "cell_type": "code",
      "metadata": {
        "id": "BIft4PvBaunu"
      },
      "source": [
        "import os\n",
        "import math\n",
        "import numpy as np\n",
        "import pandas as pd\n",
        "import scipy\n",
        "import matplotlib.pyplot as plt\n",
        "import seaborn as sns"
      ],
      "execution_count": null,
      "outputs": []
    },
    {
      "cell_type": "markdown",
      "metadata": {
        "id": "6YaFdf01eJx4"
      },
      "source": [
        "2do: Directorios o Proyecto\n"
      ]
    },
    {
      "cell_type": "code",
      "metadata": {
        "id": "CKBAzVnXbsEN",
        "colab": {
          "base_uri": "https://localhost:8080/",
          "height": 180
        },
        "outputId": "dd8ee13a-dcec-49d9-fc5f-390c923f56d1"
      },
      "source": [
        "import os\n",
        "os.mkdir('Data') # Crear carpeta Data"
      ],
      "execution_count": null,
      "outputs": [
        {
          "output_type": "error",
          "ename": "FileExistsError",
          "evalue": "ignored",
          "traceback": [
            "\u001b[0;31m---------------------------------------------------------------------------\u001b[0m",
            "\u001b[0;31mFileExistsError\u001b[0m                           Traceback (most recent call last)",
            "\u001b[0;32m<ipython-input-14-d2a29b6bd366>\u001b[0m in \u001b[0;36m<module>\u001b[0;34m()\u001b[0m\n\u001b[1;32m      1\u001b[0m \u001b[0;32mimport\u001b[0m \u001b[0mos\u001b[0m\u001b[0;34m\u001b[0m\u001b[0;34m\u001b[0m\u001b[0m\n\u001b[0;32m----> 2\u001b[0;31m \u001b[0mos\u001b[0m\u001b[0;34m.\u001b[0m\u001b[0mmkdir\u001b[0m\u001b[0;34m(\u001b[0m\u001b[0;34m'Data'\u001b[0m\u001b[0;34m)\u001b[0m \u001b[0;31m# Crear carpeta Data\u001b[0m\u001b[0;34m\u001b[0m\u001b[0;34m\u001b[0m\u001b[0m\n\u001b[0m",
            "\u001b[0;31mFileExistsError\u001b[0m: [Errno 17] File exists: 'Data'"
          ]
        }
      ]
    },
    {
      "cell_type": "code",
      "metadata": {
        "colab": {
          "base_uri": "https://localhost:8080/"
        },
        "id": "9eAoxPOab-o2",
        "outputId": "9dd47fa1-1aa8-4f13-e400-cea4b56db2e9"
      },
      "source": [
        "# Obtener el archivo de excel\n",
        "# https://drive.google.com/file/d/1QEBpfA5Lm8yxWdevRBytj6YPaNr0uIkv/view?usp=sharing\n",
        "!gdown --id 1QEBpfA5Lm8yxWdevRBytj6YPaNr0uIkv"
      ],
      "execution_count": null,
      "outputs": [
        {
          "output_type": "stream",
          "text": [
            "Downloading...\n",
            "From: https://drive.google.com/uc?id=1QEBpfA5Lm8yxWdevRBytj6YPaNr0uIkv\n",
            "To: /content/retail_online_sample.xlsx\n",
            "\r  0% 0.00/662k [00:00<?, ?B/s]\r100% 662k/662k [00:00<00:00, 84.6MB/s]\n"
          ],
          "name": "stdout"
        }
      ]
    },
    {
      "cell_type": "markdown",
      "metadata": {
        "id": "RzDzHXz9w7GB"
      },
      "source": [
        "Luego de descargar deben mover el archivo a la carpeta Data\n"
      ]
    },
    {
      "cell_type": "markdown",
      "metadata": {
        "id": "3c-g-IejfBZ9"
      },
      "source": [
        "### 3ro: Importar Datos\n"
      ]
    },
    {
      "cell_type": "code",
      "metadata": {
        "colab": {
          "base_uri": "https://localhost:8080/",
          "height": 204
        },
        "id": "pLsnfllAcAkT",
        "outputId": "e3ab4876-8335-4fcf-bcb3-fb624ea8cae6"
      },
      "source": [
        "transacciones = pd.read_excel(\"Data/retail_online_sample.xlsx\", sheet_name = 'transacciones')\n",
        "transacciones.head(5)"
      ],
      "execution_count": null,
      "outputs": [
        {
          "output_type": "execute_result",
          "data": {
            "text/html": [
              "<div>\n",
              "<style scoped>\n",
              "    .dataframe tbody tr th:only-of-type {\n",
              "        vertical-align: middle;\n",
              "    }\n",
              "\n",
              "    .dataframe tbody tr th {\n",
              "        vertical-align: top;\n",
              "    }\n",
              "\n",
              "    .dataframe thead th {\n",
              "        text-align: right;\n",
              "    }\n",
              "</style>\n",
              "<table border=\"1\" class=\"dataframe\">\n",
              "  <thead>\n",
              "    <tr style=\"text-align: right;\">\n",
              "      <th></th>\n",
              "      <th>InvoiceNo</th>\n",
              "      <th>StockCode</th>\n",
              "      <th>Quantity</th>\n",
              "      <th>InvoiceDate</th>\n",
              "      <th>UnitPrice</th>\n",
              "      <th>CustomerID</th>\n",
              "      <th>Country</th>\n",
              "    </tr>\n",
              "  </thead>\n",
              "  <tbody>\n",
              "    <tr>\n",
              "      <th>0</th>\n",
              "      <td>536378</td>\n",
              "      <td>21931</td>\n",
              "      <td>10</td>\n",
              "      <td>12/1/2010 9:37</td>\n",
              "      <td>195</td>\n",
              "      <td>14688.0</td>\n",
              "      <td>United Kingdom</td>\n",
              "    </tr>\n",
              "    <tr>\n",
              "      <th>1</th>\n",
              "      <td>536382</td>\n",
              "      <td>22379</td>\n",
              "      <td>10</td>\n",
              "      <td>12/1/2010 9:45</td>\n",
              "      <td>21</td>\n",
              "      <td>16098.0</td>\n",
              "      <td>United Kingdom</td>\n",
              "    </tr>\n",
              "    <tr>\n",
              "      <th>2</th>\n",
              "      <td>536394</td>\n",
              "      <td>22866</td>\n",
              "      <td>96</td>\n",
              "      <td>12/1/2010 10:39</td>\n",
              "      <td>185</td>\n",
              "      <td>13408.0</td>\n",
              "      <td>United Kingdom</td>\n",
              "    </tr>\n",
              "    <tr>\n",
              "      <th>3</th>\n",
              "      <td>536395</td>\n",
              "      <td>22866</td>\n",
              "      <td>48</td>\n",
              "      <td>12/1/2010 10:47</td>\n",
              "      <td>21</td>\n",
              "      <td>13767.0</td>\n",
              "      <td>United Kingdom</td>\n",
              "    </tr>\n",
              "    <tr>\n",
              "      <th>4</th>\n",
              "      <td>536398</td>\n",
              "      <td>22866</td>\n",
              "      <td>12</td>\n",
              "      <td>12/1/2010 10:52</td>\n",
              "      <td>21</td>\n",
              "      <td>13448.0</td>\n",
              "      <td>United Kingdom</td>\n",
              "    </tr>\n",
              "  </tbody>\n",
              "</table>\n",
              "</div>"
            ],
            "text/plain": [
              "  InvoiceNo StockCode  Quantity  ... UnitPrice  CustomerID         Country\n",
              "0    536378     21931        10  ...       195     14688.0  United Kingdom\n",
              "1    536382     22379        10  ...        21     16098.0  United Kingdom\n",
              "2    536394     22866        96  ...       185     13408.0  United Kingdom\n",
              "3    536395     22866        48  ...        21     13767.0  United Kingdom\n",
              "4    536398     22866        12  ...        21     13448.0  United Kingdom\n",
              "\n",
              "[5 rows x 7 columns]"
            ]
          },
          "metadata": {
            "tags": []
          },
          "execution_count": 16
        }
      ]
    },
    {
      "cell_type": "code",
      "metadata": {
        "colab": {
          "base_uri": "https://localhost:8080/",
          "height": 204
        },
        "id": "qRSh7xmXfDxY",
        "outputId": "67fed8f9-30c5-4d09-c3fa-b06c611a69d6"
      },
      "source": [
        "productos = pd.read_excel(\"Data/retail_online_sample.xlsx\", \n",
        "sheet_name = 'productos')\n",
        "productos.head(5)"
      ],
      "execution_count": null,
      "outputs": [
        {
          "output_type": "execute_result",
          "data": {
            "text/html": [
              "<div>\n",
              "<style scoped>\n",
              "    .dataframe tbody tr th:only-of-type {\n",
              "        vertical-align: middle;\n",
              "    }\n",
              "\n",
              "    .dataframe tbody tr th {\n",
              "        vertical-align: top;\n",
              "    }\n",
              "\n",
              "    .dataframe thead th {\n",
              "        text-align: right;\n",
              "    }\n",
              "</style>\n",
              "<table border=\"1\" class=\"dataframe\">\n",
              "  <thead>\n",
              "    <tr style=\"text-align: right;\">\n",
              "      <th></th>\n",
              "      <th>StockCode</th>\n",
              "      <th>Description</th>\n",
              "    </tr>\n",
              "  </thead>\n",
              "  <tbody>\n",
              "    <tr>\n",
              "      <th>0</th>\n",
              "      <td>23064</td>\n",
              "      <td>CINDERELLA CHANDELIER</td>\n",
              "    </tr>\n",
              "    <tr>\n",
              "      <th>1</th>\n",
              "      <td>21002</td>\n",
              "      <td>ROSE DU SUD DRAWSTRING BAG</td>\n",
              "    </tr>\n",
              "    <tr>\n",
              "      <th>2</th>\n",
              "      <td>20831</td>\n",
              "      <td>GOLD PHOTO FRAME</td>\n",
              "    </tr>\n",
              "    <tr>\n",
              "      <th>3</th>\n",
              "      <td>22964</td>\n",
              "      <td>3 PIECE SPACEBOY COOKIE CUTTER SET</td>\n",
              "    </tr>\n",
              "    <tr>\n",
              "      <th>4</th>\n",
              "      <td>22609</td>\n",
              "      <td>PENS ASSORTED SPACEBALL</td>\n",
              "    </tr>\n",
              "  </tbody>\n",
              "</table>\n",
              "</div>"
            ],
            "text/plain": [
              "  StockCode                         Description\n",
              "0     23064              CINDERELLA CHANDELIER \n",
              "1     21002          ROSE DU SUD DRAWSTRING BAG\n",
              "2     20831                    GOLD PHOTO FRAME\n",
              "3     22964  3 PIECE SPACEBOY COOKIE CUTTER SET\n",
              "4     22609             PENS ASSORTED SPACEBALL"
            ]
          },
          "metadata": {
            "tags": []
          },
          "execution_count": 17
        }
      ]
    },
    {
      "cell_type": "code",
      "metadata": {
        "colab": {
          "base_uri": "https://localhost:8080/",
          "height": 35
        },
        "id": "ss6sxGjvgoC5",
        "outputId": "b2811c79-100b-494d-9390-d640f6c05b32"
      },
      "source": [
        "a= 'Hola Mundo'\n",
        "a"
      ],
      "execution_count": null,
      "outputs": [
        {
          "output_type": "execute_result",
          "data": {
            "application/vnd.google.colaboratory.intrinsic+json": {
              "type": "string"
            },
            "text/plain": [
              "'Hola Mundo'"
            ]
          },
          "metadata": {
            "tags": []
          },
          "execution_count": 18
        }
      ]
    },
    {
      "cell_type": "code",
      "metadata": {
        "colab": {
          "base_uri": "https://localhost:8080/"
        },
        "id": "1gviwOtggyYA",
        "outputId": "0947bba1-6556-412f-9e75-17e68334b9d9"
      },
      "source": [
        "a.__class__"
      ],
      "execution_count": null,
      "outputs": [
        {
          "output_type": "execute_result",
          "data": {
            "text/plain": [
              "str"
            ]
          },
          "metadata": {
            "tags": []
          },
          "execution_count": 19
        }
      ]
    },
    {
      "cell_type": "code",
      "metadata": {
        "colab": {
          "base_uri": "https://localhost:8080/"
        },
        "id": "5TWEg9O6g0yg",
        "outputId": "c8767503-00b7-4e25-f91b-1bdd05d27407"
      },
      "source": [
        "a= [2, 4]\n",
        "a"
      ],
      "execution_count": null,
      "outputs": [
        {
          "output_type": "execute_result",
          "data": {
            "text/plain": [
              "[2, 4]"
            ]
          },
          "metadata": {
            "tags": []
          },
          "execution_count": 20
        }
      ]
    },
    {
      "cell_type": "code",
      "metadata": {
        "colab": {
          "base_uri": "https://localhost:8080/"
        },
        "id": "FLWIHykahD2N",
        "outputId": "011965b9-ca36-4bd0-b463-346ee8726f63"
      },
      "source": [
        "a.__class__"
      ],
      "execution_count": null,
      "outputs": [
        {
          "output_type": "execute_result",
          "data": {
            "text/plain": [
              "list"
            ]
          },
          "metadata": {
            "tags": []
          },
          "execution_count": 21
        }
      ]
    },
    {
      "cell_type": "code",
      "metadata": {
        "colab": {
          "base_uri": "https://localhost:8080/"
        },
        "id": "l5mu-v1qhE_s",
        "outputId": "708297f5-1169-4afe-bbb2-ba6ea92b76d4"
      },
      "source": [
        "transacciones.__class__"
      ],
      "execution_count": null,
      "outputs": [
        {
          "output_type": "execute_result",
          "data": {
            "text/plain": [
              "pandas.core.frame.DataFrame"
            ]
          },
          "metadata": {
            "tags": []
          },
          "execution_count": 22
        }
      ]
    },
    {
      "cell_type": "markdown",
      "metadata": {
        "id": "lSryNFEDhgOm"
      },
      "source": [
        "### 4to: Entender los **datos**"
      ]
    },
    {
      "cell_type": "code",
      "metadata": {
        "colab": {
          "base_uri": "https://localhost:8080/"
        },
        "id": "ZhbKPgMShKwC",
        "outputId": "e7d16ee4-f64b-4cf6-f1c7-a25a194d2522"
      },
      "source": [
        "transacciones.info()"
      ],
      "execution_count": null,
      "outputs": [
        {
          "output_type": "stream",
          "text": [
            "<class 'pandas.core.frame.DataFrame'>\n",
            "RangeIndex: 15677 entries, 0 to 15676\n",
            "Data columns (total 7 columns):\n",
            " #   Column       Non-Null Count  Dtype  \n",
            "---  ------       --------------  -----  \n",
            " 0   InvoiceNo    15677 non-null  object \n",
            " 1   StockCode    15677 non-null  object \n",
            " 2   Quantity     15677 non-null  int64  \n",
            " 3   InvoiceDate  15677 non-null  object \n",
            " 4   UnitPrice    15677 non-null  int64  \n",
            " 5   CustomerID   11300 non-null  float64\n",
            " 6   Country      15677 non-null  object \n",
            "dtypes: float64(1), int64(2), object(4)\n",
            "memory usage: 857.5+ KB\n"
          ],
          "name": "stdout"
        }
      ]
    },
    {
      "cell_type": "markdown",
      "metadata": {
        "id": "zjKoS_Sbj2Zj"
      },
      "source": [
        "### 5to. Corregir y ordenar los datos"
      ]
    },
    {
      "cell_type": "markdown",
      "metadata": {
        "id": "IZFXgY_rkTuw"
      },
      "source": [
        "**Seleccionar columnas: [[,]]**"
      ]
    },
    {
      "cell_type": "code",
      "metadata": {
        "colab": {
          "base_uri": "https://localhost:8080/"
        },
        "id": "-H21QE6HkYem",
        "outputId": "ca62c1a9-85db-4242-9b77-2aeb7abfb904"
      },
      "source": [
        "# Seleccionar una columna\n",
        "productos['Description']"
      ],
      "execution_count": null,
      "outputs": [
        {
          "output_type": "execute_result",
          "data": {
            "text/plain": [
              "0                  CINDERELLA CHANDELIER \n",
              "1              ROSE DU SUD DRAWSTRING BAG\n",
              "2                        GOLD PHOTO FRAME\n",
              "3      3 PIECE SPACEBOY COOKIE CUTTER SET\n",
              "4                 PENS ASSORTED SPACEBALL\n",
              "                     ...                 \n",
              "95        FUSCHIA FLOWER PURSE WITH BEADS\n",
              "96    ANTIQUE TALL SWIRLGLASS TRINKET POT\n",
              "97          DROP EARRINGS W FLOWER & LEAF\n",
              "98       HANGING CHICK  YELLOW DECORATION\n",
              "99     WHITE/PINK CHICK EASTER DECORATION\n",
              "Name: Description, Length: 100, dtype: object"
            ]
          },
          "metadata": {
            "tags": []
          },
          "execution_count": 24
        }
      ]
    },
    {
      "cell_type": "code",
      "metadata": {
        "colab": {
          "base_uri": "https://localhost:8080/"
        },
        "id": "txtSxjrXiqrV",
        "outputId": "eec49fa7-dc1e-405b-ff69-4a307cfeefbf"
      },
      "source": [
        "# Seleccionar una columna\n",
        "productos.Description"
      ],
      "execution_count": null,
      "outputs": [
        {
          "output_type": "execute_result",
          "data": {
            "text/plain": [
              "0                  CINDERELLA CHANDELIER \n",
              "1              ROSE DU SUD DRAWSTRING BAG\n",
              "2                        GOLD PHOTO FRAME\n",
              "3      3 PIECE SPACEBOY COOKIE CUTTER SET\n",
              "4                 PENS ASSORTED SPACEBALL\n",
              "                     ...                 \n",
              "95        FUSCHIA FLOWER PURSE WITH BEADS\n",
              "96    ANTIQUE TALL SWIRLGLASS TRINKET POT\n",
              "97          DROP EARRINGS W FLOWER & LEAF\n",
              "98       HANGING CHICK  YELLOW DECORATION\n",
              "99     WHITE/PINK CHICK EASTER DECORATION\n",
              "Name: Description, Length: 100, dtype: object"
            ]
          },
          "metadata": {
            "tags": []
          },
          "execution_count": 25
        }
      ]
    },
    {
      "cell_type": "code",
      "metadata": {
        "colab": {
          "base_uri": "https://localhost:8080/",
          "height": 419
        },
        "id": "HZn9Q0jEklNO",
        "outputId": "acb0f103-c6af-45a0-b1c1-224d2640311c"
      },
      "source": [
        "# Seleccionar varias columnas\n",
        "transacciones[ ['StockCode', 'Quantity', 'Country'] ]"
      ],
      "execution_count": null,
      "outputs": [
        {
          "output_type": "execute_result",
          "data": {
            "text/html": [
              "<div>\n",
              "<style scoped>\n",
              "    .dataframe tbody tr th:only-of-type {\n",
              "        vertical-align: middle;\n",
              "    }\n",
              "\n",
              "    .dataframe tbody tr th {\n",
              "        vertical-align: top;\n",
              "    }\n",
              "\n",
              "    .dataframe thead th {\n",
              "        text-align: right;\n",
              "    }\n",
              "</style>\n",
              "<table border=\"1\" class=\"dataframe\">\n",
              "  <thead>\n",
              "    <tr style=\"text-align: right;\">\n",
              "      <th></th>\n",
              "      <th>StockCode</th>\n",
              "      <th>Quantity</th>\n",
              "      <th>Country</th>\n",
              "    </tr>\n",
              "  </thead>\n",
              "  <tbody>\n",
              "    <tr>\n",
              "      <th>0</th>\n",
              "      <td>21931</td>\n",
              "      <td>10</td>\n",
              "      <td>United Kingdom</td>\n",
              "    </tr>\n",
              "    <tr>\n",
              "      <th>1</th>\n",
              "      <td>22379</td>\n",
              "      <td>10</td>\n",
              "      <td>United Kingdom</td>\n",
              "    </tr>\n",
              "    <tr>\n",
              "      <th>2</th>\n",
              "      <td>22866</td>\n",
              "      <td>96</td>\n",
              "      <td>United Kingdom</td>\n",
              "    </tr>\n",
              "    <tr>\n",
              "      <th>3</th>\n",
              "      <td>22866</td>\n",
              "      <td>48</td>\n",
              "      <td>United Kingdom</td>\n",
              "    </tr>\n",
              "    <tr>\n",
              "      <th>4</th>\n",
              "      <td>22866</td>\n",
              "      <td>12</td>\n",
              "      <td>United Kingdom</td>\n",
              "    </tr>\n",
              "    <tr>\n",
              "      <th>...</th>\n",
              "      <td>...</td>\n",
              "      <td>...</td>\n",
              "      <td>...</td>\n",
              "    </tr>\n",
              "    <tr>\n",
              "      <th>15672</th>\n",
              "      <td>22992</td>\n",
              "      <td>1</td>\n",
              "      <td>United Kingdom</td>\n",
              "    </tr>\n",
              "    <tr>\n",
              "      <th>15673</th>\n",
              "      <td>20979</td>\n",
              "      <td>-5</td>\n",
              "      <td>United Kingdom</td>\n",
              "    </tr>\n",
              "    <tr>\n",
              "      <th>15674</th>\n",
              "      <td>84997D</td>\n",
              "      <td>8</td>\n",
              "      <td>Germany</td>\n",
              "    </tr>\n",
              "    <tr>\n",
              "      <th>15675</th>\n",
              "      <td>22992</td>\n",
              "      <td>12</td>\n",
              "      <td>Germany</td>\n",
              "    </tr>\n",
              "    <tr>\n",
              "      <th>15676</th>\n",
              "      <td>21931</td>\n",
              "      <td>10</td>\n",
              "      <td>United Kingdom</td>\n",
              "    </tr>\n",
              "  </tbody>\n",
              "</table>\n",
              "<p>15677 rows × 3 columns</p>\n",
              "</div>"
            ],
            "text/plain": [
              "      StockCode  Quantity         Country\n",
              "0         21931        10  United Kingdom\n",
              "1         22379        10  United Kingdom\n",
              "2         22866        96  United Kingdom\n",
              "3         22866        48  United Kingdom\n",
              "4         22866        12  United Kingdom\n",
              "...         ...       ...             ...\n",
              "15672     22992         1  United Kingdom\n",
              "15673     20979        -5  United Kingdom\n",
              "15674    84997D         8         Germany\n",
              "15675     22992        12         Germany\n",
              "15676     21931        10  United Kingdom\n",
              "\n",
              "[15677 rows x 3 columns]"
            ]
          },
          "metadata": {
            "tags": []
          },
          "execution_count": 26
        }
      ]
    },
    {
      "cell_type": "markdown",
      "metadata": {
        "id": "qYMfMmR-lFH2"
      },
      "source": [
        "**Filtrar filas por posición o condición**"
      ]
    },
    {
      "cell_type": "code",
      "metadata": {
        "colab": {
          "base_uri": "https://localhost:8080/",
          "height": 142
        },
        "id": "R1_kMxrhk0cz",
        "outputId": "f6c68415-e197-44cc-e97b-c1784c33ae5a"
      },
      "source": [
        "# Filtrar filas por numero de fila\n",
        "transacciones.iloc[ [5,6,7] ]\n",
        "# transacciones.loc[[5,6,7]] Tambien es válido"
      ],
      "execution_count": null,
      "outputs": [
        {
          "output_type": "execute_result",
          "data": {
            "text/html": [
              "<div>\n",
              "<style scoped>\n",
              "    .dataframe tbody tr th:only-of-type {\n",
              "        vertical-align: middle;\n",
              "    }\n",
              "\n",
              "    .dataframe tbody tr th {\n",
              "        vertical-align: top;\n",
              "    }\n",
              "\n",
              "    .dataframe thead th {\n",
              "        text-align: right;\n",
              "    }\n",
              "</style>\n",
              "<table border=\"1\" class=\"dataframe\">\n",
              "  <thead>\n",
              "    <tr style=\"text-align: right;\">\n",
              "      <th></th>\n",
              "      <th>InvoiceNo</th>\n",
              "      <th>StockCode</th>\n",
              "      <th>Quantity</th>\n",
              "      <th>InvoiceDate</th>\n",
              "      <th>UnitPrice</th>\n",
              "      <th>CustomerID</th>\n",
              "      <th>Country</th>\n",
              "    </tr>\n",
              "  </thead>\n",
              "  <tbody>\n",
              "    <tr>\n",
              "      <th>5</th>\n",
              "      <td>536401</td>\n",
              "      <td>22767</td>\n",
              "      <td>2</td>\n",
              "      <td>12/1/2010 11:21</td>\n",
              "      <td>995</td>\n",
              "      <td>15862.0</td>\n",
              "      <td>United Kingdom</td>\n",
              "    </tr>\n",
              "    <tr>\n",
              "      <th>6</th>\n",
              "      <td>536401</td>\n",
              "      <td>85150</td>\n",
              "      <td>1</td>\n",
              "      <td>12/1/2010 11:21</td>\n",
              "      <td>255</td>\n",
              "      <td>15862.0</td>\n",
              "      <td>United Kingdom</td>\n",
              "    </tr>\n",
              "    <tr>\n",
              "      <th>7</th>\n",
              "      <td>536401</td>\n",
              "      <td>22068</td>\n",
              "      <td>2</td>\n",
              "      <td>12/1/2010 11:21</td>\n",
              "      <td>165</td>\n",
              "      <td>15862.0</td>\n",
              "      <td>United Kingdom</td>\n",
              "    </tr>\n",
              "  </tbody>\n",
              "</table>\n",
              "</div>"
            ],
            "text/plain": [
              "  InvoiceNo StockCode  Quantity  ... UnitPrice  CustomerID         Country\n",
              "5    536401     22767         2  ...       995     15862.0  United Kingdom\n",
              "6    536401     85150         1  ...       255     15862.0  United Kingdom\n",
              "7    536401     22068         2  ...       165     15862.0  United Kingdom\n",
              "\n",
              "[3 rows x 7 columns]"
            ]
          },
          "metadata": {
            "tags": []
          },
          "execution_count": 27
        }
      ]
    },
    {
      "cell_type": "code",
      "metadata": {
        "colab": {
          "base_uri": "https://localhost:8080/",
          "height": 419
        },
        "id": "Sh7jefyRlNUP",
        "outputId": "91d47ad2-b11f-4a8c-9ceb-4225fefd56f5"
      },
      "source": [
        "# Filtrar filas según una condición loc\n",
        "# Filtrar transacciones cuyo tiempo de servicio sea mayor a 100\n",
        "transacciones.loc[ (transacciones[\"Country\"] == \"United Kingdom\") & \n",
        "(transacciones[\"Quantity\"] > 10) ]"
      ],
      "execution_count": null,
      "outputs": [
        {
          "output_type": "execute_result",
          "data": {
            "text/html": [
              "<div>\n",
              "<style scoped>\n",
              "    .dataframe tbody tr th:only-of-type {\n",
              "        vertical-align: middle;\n",
              "    }\n",
              "\n",
              "    .dataframe tbody tr th {\n",
              "        vertical-align: top;\n",
              "    }\n",
              "\n",
              "    .dataframe thead th {\n",
              "        text-align: right;\n",
              "    }\n",
              "</style>\n",
              "<table border=\"1\" class=\"dataframe\">\n",
              "  <thead>\n",
              "    <tr style=\"text-align: right;\">\n",
              "      <th></th>\n",
              "      <th>InvoiceNo</th>\n",
              "      <th>StockCode</th>\n",
              "      <th>Quantity</th>\n",
              "      <th>InvoiceDate</th>\n",
              "      <th>UnitPrice</th>\n",
              "      <th>CustomerID</th>\n",
              "      <th>Country</th>\n",
              "    </tr>\n",
              "  </thead>\n",
              "  <tbody>\n",
              "    <tr>\n",
              "      <th>2</th>\n",
              "      <td>536394</td>\n",
              "      <td>22866</td>\n",
              "      <td>96</td>\n",
              "      <td>12/1/2010 10:39</td>\n",
              "      <td>185</td>\n",
              "      <td>13408.0</td>\n",
              "      <td>United Kingdom</td>\n",
              "    </tr>\n",
              "    <tr>\n",
              "      <th>3</th>\n",
              "      <td>536395</td>\n",
              "      <td>22866</td>\n",
              "      <td>48</td>\n",
              "      <td>12/1/2010 10:47</td>\n",
              "      <td>21</td>\n",
              "      <td>13767.0</td>\n",
              "      <td>United Kingdom</td>\n",
              "    </tr>\n",
              "    <tr>\n",
              "      <th>4</th>\n",
              "      <td>536398</td>\n",
              "      <td>22866</td>\n",
              "      <td>12</td>\n",
              "      <td>12/1/2010 10:52</td>\n",
              "      <td>21</td>\n",
              "      <td>13448.0</td>\n",
              "      <td>United Kingdom</td>\n",
              "    </tr>\n",
              "    <tr>\n",
              "      <th>8</th>\n",
              "      <td>536404</td>\n",
              "      <td>22773</td>\n",
              "      <td>12</td>\n",
              "      <td>12/1/2010 11:29</td>\n",
              "      <td>125</td>\n",
              "      <td>16218.0</td>\n",
              "      <td>United Kingdom</td>\n",
              "    </tr>\n",
              "    <tr>\n",
              "      <th>9</th>\n",
              "      <td>536404</td>\n",
              "      <td>22964</td>\n",
              "      <td>12</td>\n",
              "      <td>12/1/2010 11:29</td>\n",
              "      <td>21</td>\n",
              "      <td>16218.0</td>\n",
              "      <td>United Kingdom</td>\n",
              "    </tr>\n",
              "    <tr>\n",
              "      <th>...</th>\n",
              "      <td>...</td>\n",
              "      <td>...</td>\n",
              "      <td>...</td>\n",
              "      <td>...</td>\n",
              "      <td>...</td>\n",
              "      <td>...</td>\n",
              "      <td>...</td>\n",
              "    </tr>\n",
              "    <tr>\n",
              "      <th>15627</th>\n",
              "      <td>581475</td>\n",
              "      <td>22380</td>\n",
              "      <td>20</td>\n",
              "      <td>12/9/2011 8:39</td>\n",
              "      <td>79</td>\n",
              "      <td>13069.0</td>\n",
              "      <td>United Kingdom</td>\n",
              "    </tr>\n",
              "    <tr>\n",
              "      <th>15631</th>\n",
              "      <td>581488</td>\n",
              "      <td>22179</td>\n",
              "      <td>24</td>\n",
              "      <td>12/9/2011 9:45</td>\n",
              "      <td>595</td>\n",
              "      <td>17428.0</td>\n",
              "      <td>United Kingdom</td>\n",
              "    </tr>\n",
              "    <tr>\n",
              "      <th>15657</th>\n",
              "      <td>581496</td>\n",
              "      <td>20831</td>\n",
              "      <td>12</td>\n",
              "      <td>12/9/2011 10:20</td>\n",
              "      <td>79</td>\n",
              "      <td>16558.0</td>\n",
              "      <td>United Kingdom</td>\n",
              "    </tr>\n",
              "    <tr>\n",
              "      <th>15665</th>\n",
              "      <td>581514</td>\n",
              "      <td>84031B</td>\n",
              "      <td>14</td>\n",
              "      <td>12/9/2011 11:20</td>\n",
              "      <td>125</td>\n",
              "      <td>17754.0</td>\n",
              "      <td>United Kingdom</td>\n",
              "    </tr>\n",
              "    <tr>\n",
              "      <th>15666</th>\n",
              "      <td>581514</td>\n",
              "      <td>22068</td>\n",
              "      <td>14</td>\n",
              "      <td>12/9/2011 11:20</td>\n",
              "      <td>39</td>\n",
              "      <td>17754.0</td>\n",
              "      <td>United Kingdom</td>\n",
              "    </tr>\n",
              "  </tbody>\n",
              "</table>\n",
              "<p>3007 rows × 7 columns</p>\n",
              "</div>"
            ],
            "text/plain": [
              "      InvoiceNo StockCode  Quantity  ... UnitPrice  CustomerID         Country\n",
              "2        536394     22866        96  ...       185     13408.0  United Kingdom\n",
              "3        536395     22866        48  ...        21     13767.0  United Kingdom\n",
              "4        536398     22866        12  ...        21     13448.0  United Kingdom\n",
              "8        536404     22773        12  ...       125     16218.0  United Kingdom\n",
              "9        536404     22964        12  ...        21     16218.0  United Kingdom\n",
              "...         ...       ...       ...  ...       ...         ...             ...\n",
              "15627    581475     22380        20  ...        79     13069.0  United Kingdom\n",
              "15631    581488     22179        24  ...       595     17428.0  United Kingdom\n",
              "15657    581496     20831        12  ...        79     16558.0  United Kingdom\n",
              "15665    581514    84031B        14  ...       125     17754.0  United Kingdom\n",
              "15666    581514     22068        14  ...        39     17754.0  United Kingdom\n",
              "\n",
              "[3007 rows x 7 columns]"
            ]
          },
          "metadata": {
            "tags": []
          },
          "execution_count": 28
        }
      ]
    },
    {
      "cell_type": "code",
      "metadata": {
        "colab": {
          "base_uri": "https://localhost:8080/",
          "height": 419
        },
        "id": "SeSlADJpmBjU",
        "outputId": "4932e340-30ff-41c5-b2a2-0e52a6f3b714"
      },
      "source": [
        "# Filtrar filas según una condición loc\n",
        "# Filtrar transacciones cuyo tiempo de servicio sea mayor a 100\n",
        "transacciones.loc[ (transacciones[\"Country\"] == \"United Kingdom\") & \n",
        "(transacciones[\"Quantity\"] > 10) ,  ['Country', 'Quantity']]"
      ],
      "execution_count": null,
      "outputs": [
        {
          "output_type": "execute_result",
          "data": {
            "text/html": [
              "<div>\n",
              "<style scoped>\n",
              "    .dataframe tbody tr th:only-of-type {\n",
              "        vertical-align: middle;\n",
              "    }\n",
              "\n",
              "    .dataframe tbody tr th {\n",
              "        vertical-align: top;\n",
              "    }\n",
              "\n",
              "    .dataframe thead th {\n",
              "        text-align: right;\n",
              "    }\n",
              "</style>\n",
              "<table border=\"1\" class=\"dataframe\">\n",
              "  <thead>\n",
              "    <tr style=\"text-align: right;\">\n",
              "      <th></th>\n",
              "      <th>Country</th>\n",
              "      <th>Quantity</th>\n",
              "    </tr>\n",
              "  </thead>\n",
              "  <tbody>\n",
              "    <tr>\n",
              "      <th>2</th>\n",
              "      <td>United Kingdom</td>\n",
              "      <td>96</td>\n",
              "    </tr>\n",
              "    <tr>\n",
              "      <th>3</th>\n",
              "      <td>United Kingdom</td>\n",
              "      <td>48</td>\n",
              "    </tr>\n",
              "    <tr>\n",
              "      <th>4</th>\n",
              "      <td>United Kingdom</td>\n",
              "      <td>12</td>\n",
              "    </tr>\n",
              "    <tr>\n",
              "      <th>8</th>\n",
              "      <td>United Kingdom</td>\n",
              "      <td>12</td>\n",
              "    </tr>\n",
              "    <tr>\n",
              "      <th>9</th>\n",
              "      <td>United Kingdom</td>\n",
              "      <td>12</td>\n",
              "    </tr>\n",
              "    <tr>\n",
              "      <th>...</th>\n",
              "      <td>...</td>\n",
              "      <td>...</td>\n",
              "    </tr>\n",
              "    <tr>\n",
              "      <th>15627</th>\n",
              "      <td>United Kingdom</td>\n",
              "      <td>20</td>\n",
              "    </tr>\n",
              "    <tr>\n",
              "      <th>15631</th>\n",
              "      <td>United Kingdom</td>\n",
              "      <td>24</td>\n",
              "    </tr>\n",
              "    <tr>\n",
              "      <th>15657</th>\n",
              "      <td>United Kingdom</td>\n",
              "      <td>12</td>\n",
              "    </tr>\n",
              "    <tr>\n",
              "      <th>15665</th>\n",
              "      <td>United Kingdom</td>\n",
              "      <td>14</td>\n",
              "    </tr>\n",
              "    <tr>\n",
              "      <th>15666</th>\n",
              "      <td>United Kingdom</td>\n",
              "      <td>14</td>\n",
              "    </tr>\n",
              "  </tbody>\n",
              "</table>\n",
              "<p>3007 rows × 2 columns</p>\n",
              "</div>"
            ],
            "text/plain": [
              "              Country  Quantity\n",
              "2      United Kingdom        96\n",
              "3      United Kingdom        48\n",
              "4      United Kingdom        12\n",
              "8      United Kingdom        12\n",
              "9      United Kingdom        12\n",
              "...               ...       ...\n",
              "15627  United Kingdom        20\n",
              "15631  United Kingdom        24\n",
              "15657  United Kingdom        12\n",
              "15665  United Kingdom        14\n",
              "15666  United Kingdom        14\n",
              "\n",
              "[3007 rows x 2 columns]"
            ]
          },
          "metadata": {
            "tags": []
          },
          "execution_count": 29
        }
      ]
    },
    {
      "cell_type": "markdown",
      "metadata": {
        "id": "ycLsaZWELOA-"
      },
      "source": [
        "# Nueva sección"
      ]
    },
    {
      "cell_type": "code",
      "metadata": {
        "colab": {
          "base_uri": "https://localhost:8080/",
          "height": 419
        },
        "id": "QVNsbR9mmVmC",
        "outputId": "3229cf19-9d15-40b0-b888-c62b7f12d6fc"
      },
      "source": [
        "transacciones.sort_values( \"Quantity\")"
      ],
      "execution_count": null,
      "outputs": [
        {
          "output_type": "execute_result",
          "data": {
            "text/html": [
              "<div>\n",
              "<style scoped>\n",
              "    .dataframe tbody tr th:only-of-type {\n",
              "        vertical-align: middle;\n",
              "    }\n",
              "\n",
              "    .dataframe tbody tr th {\n",
              "        vertical-align: top;\n",
              "    }\n",
              "\n",
              "    .dataframe thead th {\n",
              "        text-align: right;\n",
              "    }\n",
              "</style>\n",
              "<table border=\"1\" class=\"dataframe\">\n",
              "  <thead>\n",
              "    <tr style=\"text-align: right;\">\n",
              "      <th></th>\n",
              "      <th>InvoiceNo</th>\n",
              "      <th>StockCode</th>\n",
              "      <th>Quantity</th>\n",
              "      <th>InvoiceDate</th>\n",
              "      <th>UnitPrice</th>\n",
              "      <th>CustomerID</th>\n",
              "      <th>Country</th>\n",
              "    </tr>\n",
              "  </thead>\n",
              "  <tbody>\n",
              "    <tr>\n",
              "      <th>5784</th>\n",
              "      <td>552733</td>\n",
              "      <td>23059</td>\n",
              "      <td>-2376</td>\n",
              "      <td>5/11/2011 10:48</td>\n",
              "      <td>0</td>\n",
              "      <td>NaN</td>\n",
              "      <td>United Kingdom</td>\n",
              "    </tr>\n",
              "    <tr>\n",
              "      <th>2295</th>\n",
              "      <td>C542693</td>\n",
              "      <td>15036</td>\n",
              "      <td>-600</td>\n",
              "      <td>1/31/2011 12:36</td>\n",
              "      <td>65</td>\n",
              "      <td>12908.0</td>\n",
              "      <td>United Kingdom</td>\n",
              "    </tr>\n",
              "    <tr>\n",
              "      <th>13845</th>\n",
              "      <td>576765</td>\n",
              "      <td>22219</td>\n",
              "      <td>-550</td>\n",
              "      <td>11/16/2011 13:11</td>\n",
              "      <td>0</td>\n",
              "      <td>NaN</td>\n",
              "      <td>United Kingdom</td>\n",
              "    </tr>\n",
              "    <tr>\n",
              "      <th>8553</th>\n",
              "      <td>561086</td>\n",
              "      <td>15036</td>\n",
              "      <td>-530</td>\n",
              "      <td>7/25/2011 9:32</td>\n",
              "      <td>0</td>\n",
              "      <td>NaN</td>\n",
              "      <td>United Kingdom</td>\n",
              "    </tr>\n",
              "    <tr>\n",
              "      <th>11209</th>\n",
              "      <td>569341</td>\n",
              "      <td>82600</td>\n",
              "      <td>-458</td>\n",
              "      <td>10/3/2011 14:19</td>\n",
              "      <td>0</td>\n",
              "      <td>NaN</td>\n",
              "      <td>United Kingdom</td>\n",
              "    </tr>\n",
              "    <tr>\n",
              "      <th>...</th>\n",
              "      <td>...</td>\n",
              "      <td>...</td>\n",
              "      <td>...</td>\n",
              "      <td>...</td>\n",
              "      <td>...</td>\n",
              "      <td>...</td>\n",
              "      <td>...</td>\n",
              "    </tr>\n",
              "    <tr>\n",
              "      <th>7169</th>\n",
              "      <td>557092</td>\n",
              "      <td>15036</td>\n",
              "      <td>600</td>\n",
              "      <td>6/16/2011 15:39</td>\n",
              "      <td>72</td>\n",
              "      <td>12908.0</td>\n",
              "      <td>United Kingdom</td>\n",
              "    </tr>\n",
              "    <tr>\n",
              "      <th>11395</th>\n",
              "      <td>569815</td>\n",
              "      <td>22379</td>\n",
              "      <td>700</td>\n",
              "      <td>10/6/2011 11:53</td>\n",
              "      <td>185</td>\n",
              "      <td>15838.0</td>\n",
              "      <td>United Kingdom</td>\n",
              "    </tr>\n",
              "    <tr>\n",
              "      <th>8906</th>\n",
              "      <td>562285</td>\n",
              "      <td>15036</td>\n",
              "      <td>720</td>\n",
              "      <td>8/4/2011 10:45</td>\n",
              "      <td>72</td>\n",
              "      <td>17404.0</td>\n",
              "      <td>Sweden</td>\n",
              "    </tr>\n",
              "    <tr>\n",
              "      <th>7817</th>\n",
              "      <td>559047</td>\n",
              "      <td>15036</td>\n",
              "      <td>1200</td>\n",
              "      <td>7/5/2011 15:44</td>\n",
              "      <td>72</td>\n",
              "      <td>13082.0</td>\n",
              "      <td>United Kingdom</td>\n",
              "    </tr>\n",
              "    <tr>\n",
              "      <th>2478</th>\n",
              "      <td>543192</td>\n",
              "      <td>15036</td>\n",
              "      <td>1200</td>\n",
              "      <td>2/4/2011 11:55</td>\n",
              "      <td>65</td>\n",
              "      <td>17381.0</td>\n",
              "      <td>United Kingdom</td>\n",
              "    </tr>\n",
              "  </tbody>\n",
              "</table>\n",
              "<p>15677 rows × 7 columns</p>\n",
              "</div>"
            ],
            "text/plain": [
              "      InvoiceNo StockCode  Quantity  ... UnitPrice  CustomerID         Country\n",
              "5784     552733     23059     -2376  ...         0         NaN  United Kingdom\n",
              "2295    C542693     15036      -600  ...        65     12908.0  United Kingdom\n",
              "13845    576765     22219      -550  ...         0         NaN  United Kingdom\n",
              "8553     561086     15036      -530  ...         0         NaN  United Kingdom\n",
              "11209    569341     82600      -458  ...         0         NaN  United Kingdom\n",
              "...         ...       ...       ...  ...       ...         ...             ...\n",
              "7169     557092     15036       600  ...        72     12908.0  United Kingdom\n",
              "11395    569815     22379       700  ...       185     15838.0  United Kingdom\n",
              "8906     562285     15036       720  ...        72     17404.0          Sweden\n",
              "7817     559047     15036      1200  ...        72     13082.0  United Kingdom\n",
              "2478     543192     15036      1200  ...        65     17381.0  United Kingdom\n",
              "\n",
              "[15677 rows x 7 columns]"
            ]
          },
          "metadata": {
            "tags": []
          },
          "execution_count": 30
        }
      ]
    },
    {
      "cell_type": "code",
      "metadata": {
        "colab": {
          "base_uri": "https://localhost:8080/",
          "height": 173
        },
        "id": "r4oaB5jxmj6I",
        "outputId": "af834a3c-6a87-4d5f-a36f-37ffc807c5c8"
      },
      "source": [
        "transacciones.iloc[ 0:4, [1,2] ]"
      ],
      "execution_count": null,
      "outputs": [
        {
          "output_type": "execute_result",
          "data": {
            "text/html": [
              "<div>\n",
              "<style scoped>\n",
              "    .dataframe tbody tr th:only-of-type {\n",
              "        vertical-align: middle;\n",
              "    }\n",
              "\n",
              "    .dataframe tbody tr th {\n",
              "        vertical-align: top;\n",
              "    }\n",
              "\n",
              "    .dataframe thead th {\n",
              "        text-align: right;\n",
              "    }\n",
              "</style>\n",
              "<table border=\"1\" class=\"dataframe\">\n",
              "  <thead>\n",
              "    <tr style=\"text-align: right;\">\n",
              "      <th></th>\n",
              "      <th>StockCode</th>\n",
              "      <th>Quantity</th>\n",
              "    </tr>\n",
              "  </thead>\n",
              "  <tbody>\n",
              "    <tr>\n",
              "      <th>0</th>\n",
              "      <td>21931</td>\n",
              "      <td>10</td>\n",
              "    </tr>\n",
              "    <tr>\n",
              "      <th>1</th>\n",
              "      <td>22379</td>\n",
              "      <td>10</td>\n",
              "    </tr>\n",
              "    <tr>\n",
              "      <th>2</th>\n",
              "      <td>22866</td>\n",
              "      <td>96</td>\n",
              "    </tr>\n",
              "    <tr>\n",
              "      <th>3</th>\n",
              "      <td>22866</td>\n",
              "      <td>48</td>\n",
              "    </tr>\n",
              "  </tbody>\n",
              "</table>\n",
              "</div>"
            ],
            "text/plain": [
              "  StockCode  Quantity\n",
              "0     21931        10\n",
              "1     22379        10\n",
              "2     22866        96\n",
              "3     22866        48"
            ]
          },
          "metadata": {
            "tags": []
          },
          "execution_count": 39
        }
      ]
    },
    {
      "cell_type": "markdown",
      "metadata": {
        "id": "GBhKC_qpowWj"
      },
      "source": [
        "**Crear o modificar columnas/variables**"
      ]
    },
    {
      "cell_type": "code",
      "metadata": {
        "colab": {
          "base_uri": "https://localhost:8080/",
          "height": 204
        },
        "id": "qyYjdyw7n4FC",
        "outputId": "34e29315-4a27-4385-f789-da4acc9e5f64"
      },
      "source": [
        "# Crear una nueva columna con el tiempo en minutos\n",
        "transacciones['Cantidad_10'] = transacciones['Quantity']*10\n",
        "transacciones.head(5)"
      ],
      "execution_count": null,
      "outputs": [
        {
          "output_type": "execute_result",
          "data": {
            "text/html": [
              "<div>\n",
              "<style scoped>\n",
              "    .dataframe tbody tr th:only-of-type {\n",
              "        vertical-align: middle;\n",
              "    }\n",
              "\n",
              "    .dataframe tbody tr th {\n",
              "        vertical-align: top;\n",
              "    }\n",
              "\n",
              "    .dataframe thead th {\n",
              "        text-align: right;\n",
              "    }\n",
              "</style>\n",
              "<table border=\"1\" class=\"dataframe\">\n",
              "  <thead>\n",
              "    <tr style=\"text-align: right;\">\n",
              "      <th></th>\n",
              "      <th>InvoiceNo</th>\n",
              "      <th>StockCode</th>\n",
              "      <th>Quantity</th>\n",
              "      <th>InvoiceDate</th>\n",
              "      <th>UnitPrice</th>\n",
              "      <th>CustomerID</th>\n",
              "      <th>Country</th>\n",
              "      <th>Cantidad_10</th>\n",
              "    </tr>\n",
              "  </thead>\n",
              "  <tbody>\n",
              "    <tr>\n",
              "      <th>0</th>\n",
              "      <td>536378</td>\n",
              "      <td>21931</td>\n",
              "      <td>10</td>\n",
              "      <td>12/1/2010 9:37</td>\n",
              "      <td>195</td>\n",
              "      <td>14688.0</td>\n",
              "      <td>United Kingdom</td>\n",
              "      <td>100</td>\n",
              "    </tr>\n",
              "    <tr>\n",
              "      <th>1</th>\n",
              "      <td>536382</td>\n",
              "      <td>22379</td>\n",
              "      <td>10</td>\n",
              "      <td>12/1/2010 9:45</td>\n",
              "      <td>21</td>\n",
              "      <td>16098.0</td>\n",
              "      <td>United Kingdom</td>\n",
              "      <td>100</td>\n",
              "    </tr>\n",
              "    <tr>\n",
              "      <th>2</th>\n",
              "      <td>536394</td>\n",
              "      <td>22866</td>\n",
              "      <td>96</td>\n",
              "      <td>12/1/2010 10:39</td>\n",
              "      <td>185</td>\n",
              "      <td>13408.0</td>\n",
              "      <td>United Kingdom</td>\n",
              "      <td>960</td>\n",
              "    </tr>\n",
              "    <tr>\n",
              "      <th>3</th>\n",
              "      <td>536395</td>\n",
              "      <td>22866</td>\n",
              "      <td>48</td>\n",
              "      <td>12/1/2010 10:47</td>\n",
              "      <td>21</td>\n",
              "      <td>13767.0</td>\n",
              "      <td>United Kingdom</td>\n",
              "      <td>480</td>\n",
              "    </tr>\n",
              "    <tr>\n",
              "      <th>4</th>\n",
              "      <td>536398</td>\n",
              "      <td>22866</td>\n",
              "      <td>12</td>\n",
              "      <td>12/1/2010 10:52</td>\n",
              "      <td>21</td>\n",
              "      <td>13448.0</td>\n",
              "      <td>United Kingdom</td>\n",
              "      <td>120</td>\n",
              "    </tr>\n",
              "  </tbody>\n",
              "</table>\n",
              "</div>"
            ],
            "text/plain": [
              "  InvoiceNo StockCode  Quantity  ... CustomerID         Country  Cantidad_10\n",
              "0    536378     21931        10  ...    14688.0  United Kingdom          100\n",
              "1    536382     22379        10  ...    16098.0  United Kingdom          100\n",
              "2    536394     22866        96  ...    13408.0  United Kingdom          960\n",
              "3    536395     22866        48  ...    13767.0  United Kingdom          480\n",
              "4    536398     22866        12  ...    13448.0  United Kingdom          120\n",
              "\n",
              "[5 rows x 8 columns]"
            ]
          },
          "metadata": {
            "tags": []
          },
          "execution_count": 40
        }
      ]
    },
    {
      "cell_type": "markdown",
      "metadata": {
        "id": "ft5JHbTopOyU"
      },
      "source": [
        "**Con esto ya podemos modificar la columna 'InvoiceDate' y pasarla a tipo fecha**"
      ]
    },
    {
      "cell_type": "code",
      "metadata": {
        "colab": {
          "base_uri": "https://localhost:8080/"
        },
        "id": "MDzbYQM9pF07",
        "outputId": "674bf175-ee1a-4d88-f84f-86bc5bea4de8"
      },
      "source": [
        "# Cambiar la columna data a fecha\n",
        "transacciones[\"InvoiceDate\"] = pd.to_datetime(transacciones[\"InvoiceDate\"])\n",
        "transacciones[\"CustomerID\"] = transacciones[\"CustomerID\"].astype(str)\n",
        "transacciones.info()"
      ],
      "execution_count": null,
      "outputs": [
        {
          "output_type": "stream",
          "text": [
            "<class 'pandas.core.frame.DataFrame'>\n",
            "RangeIndex: 15677 entries, 0 to 15676\n",
            "Data columns (total 8 columns):\n",
            " #   Column       Non-Null Count  Dtype         \n",
            "---  ------       --------------  -----         \n",
            " 0   InvoiceNo    15677 non-null  object        \n",
            " 1   StockCode    15677 non-null  object        \n",
            " 2   Quantity     15677 non-null  int64         \n",
            " 3   InvoiceDate  15677 non-null  datetime64[ns]\n",
            " 4   UnitPrice    15677 non-null  int64         \n",
            " 5   CustomerID   15677 non-null  object        \n",
            " 6   Country      15677 non-null  object        \n",
            " 7   Cantidad_10  15677 non-null  int64         \n",
            "dtypes: datetime64[ns](1), int64(3), object(4)\n",
            "memory usage: 979.9+ KB\n"
          ],
          "name": "stdout"
        }
      ]
    },
    {
      "cell_type": "markdown",
      "metadata": {
        "id": "rZojUcvRp7sY"
      },
      "source": [
        "### Descriptivas"
      ]
    },
    {
      "cell_type": "code",
      "metadata": {
        "colab": {
          "base_uri": "https://localhost:8080/",
          "height": 297
        },
        "id": "8t9p-7sgprGK",
        "outputId": "4252c635-ceb0-4fc0-fc25-57a78e42fe14"
      },
      "source": [
        "transacciones.describe() "
      ],
      "execution_count": null,
      "outputs": [
        {
          "output_type": "execute_result",
          "data": {
            "text/html": [
              "<div>\n",
              "<style scoped>\n",
              "    .dataframe tbody tr th:only-of-type {\n",
              "        vertical-align: middle;\n",
              "    }\n",
              "\n",
              "    .dataframe tbody tr th {\n",
              "        vertical-align: top;\n",
              "    }\n",
              "\n",
              "    .dataframe thead th {\n",
              "        text-align: right;\n",
              "    }\n",
              "</style>\n",
              "<table border=\"1\" class=\"dataframe\">\n",
              "  <thead>\n",
              "    <tr style=\"text-align: right;\">\n",
              "      <th></th>\n",
              "      <th>Quantity</th>\n",
              "      <th>UnitPrice</th>\n",
              "      <th>Cantidad_10</th>\n",
              "    </tr>\n",
              "  </thead>\n",
              "  <tbody>\n",
              "    <tr>\n",
              "      <th>count</th>\n",
              "      <td>15677.000000</td>\n",
              "      <td>15677.000000</td>\n",
              "      <td>15677.000000</td>\n",
              "    </tr>\n",
              "    <tr>\n",
              "      <th>mean</th>\n",
              "      <td>9.307521</td>\n",
              "      <td>316.796453</td>\n",
              "      <td>93.075206</td>\n",
              "    </tr>\n",
              "    <tr>\n",
              "      <th>std</th>\n",
              "      <td>40.151242</td>\n",
              "      <td>565.844724</td>\n",
              "      <td>401.512422</td>\n",
              "    </tr>\n",
              "    <tr>\n",
              "      <th>min</th>\n",
              "      <td>-2376.000000</td>\n",
              "      <td>0.000000</td>\n",
              "      <td>-23760.000000</td>\n",
              "    </tr>\n",
              "    <tr>\n",
              "      <th>25%</th>\n",
              "      <td>1.000000</td>\n",
              "      <td>85.000000</td>\n",
              "      <td>10.000000</td>\n",
              "    </tr>\n",
              "    <tr>\n",
              "      <th>50%</th>\n",
              "      <td>3.000000</td>\n",
              "      <td>195.000000</td>\n",
              "      <td>30.000000</td>\n",
              "    </tr>\n",
              "    <tr>\n",
              "      <th>75%</th>\n",
              "      <td>10.000000</td>\n",
              "      <td>375.000000</td>\n",
              "      <td>100.000000</td>\n",
              "    </tr>\n",
              "    <tr>\n",
              "      <th>max</th>\n",
              "      <td>1200.000000</td>\n",
              "      <td>9996.000000</td>\n",
              "      <td>12000.000000</td>\n",
              "    </tr>\n",
              "  </tbody>\n",
              "</table>\n",
              "</div>"
            ],
            "text/plain": [
              "           Quantity     UnitPrice   Cantidad_10\n",
              "count  15677.000000  15677.000000  15677.000000\n",
              "mean       9.307521    316.796453     93.075206\n",
              "std       40.151242    565.844724    401.512422\n",
              "min    -2376.000000      0.000000 -23760.000000\n",
              "25%        1.000000     85.000000     10.000000\n",
              "50%        3.000000    195.000000     30.000000\n",
              "75%       10.000000    375.000000    100.000000\n",
              "max     1200.000000   9996.000000  12000.000000"
            ]
          },
          "metadata": {
            "tags": []
          },
          "execution_count": 42
        }
      ]
    },
    {
      "cell_type": "code",
      "metadata": {
        "colab": {
          "base_uri": "https://localhost:8080/"
        },
        "id": "DjYHArBkp-Ba",
        "outputId": "5ea6fc0d-1275-4ec5-e9e9-7d0053339ebe"
      },
      "source": [
        "# Media de la cantidad\n",
        "transacciones['Quantity'].mean()"
      ],
      "execution_count": null,
      "outputs": [
        {
          "output_type": "execute_result",
          "data": {
            "text/plain": [
              "9.307520571537921"
            ]
          },
          "metadata": {
            "tags": []
          },
          "execution_count": 43
        }
      ]
    },
    {
      "cell_type": "code",
      "metadata": {
        "colab": {
          "base_uri": "https://localhost:8080/"
        },
        "id": "5RxbVDmTqD7L",
        "outputId": "42e001b3-05da-4a69-f1f2-a3dd43690657"
      },
      "source": [
        "## Obtiene las descriptivas por Pais\n",
        "transacciones.groupby('Country')['Quantity'].mean()"
      ],
      "execution_count": null,
      "outputs": [
        {
          "output_type": "execute_result",
          "data": {
            "text/plain": [
              "Country\n",
              "Australia               69.125000\n",
              "Austria                 12.909091\n",
              "Bahrain                  8.000000\n",
              "Belgium                  8.187500\n",
              "Canada                   9.333333\n",
              "Channel Islands          9.200000\n",
              "Cyprus                   7.125000\n",
              "Czech Republic          24.000000\n",
              "Denmark                 17.428571\n",
              "EIRE                    16.668712\n",
              "Finland                 27.000000\n",
              "France                  13.709957\n",
              "Germany                 14.316742\n",
              "Greece                  12.000000\n",
              "Hong Kong               22.375000\n",
              "Iceland                  8.333333\n",
              "Israel                  16.125000\n",
              "Italy                    9.727273\n",
              "Japan                   24.800000\n",
              "Lebanon                  9.000000\n",
              "Malta                    4.000000\n",
              "Netherlands             81.617021\n",
              "Norway                  16.588235\n",
              "Poland                   7.833333\n",
              "Portugal                10.264706\n",
              "RSA                      5.000000\n",
              "Singapore               19.636364\n",
              "Spain                   26.941176\n",
              "Sweden                  87.050000\n",
              "Switzerland             10.777778\n",
              "USA                      7.000000\n",
              "United Arab Emirates    15.000000\n",
              "United Kingdom           8.432635\n",
              "Unspecified              5.666667\n",
              "Name: Quantity, dtype: float64"
            ]
          },
          "metadata": {
            "tags": []
          },
          "execution_count": 44
        }
      ]
    },
    {
      "cell_type": "code",
      "metadata": {
        "colab": {
          "base_uri": "https://localhost:8080/",
          "height": 1000
        },
        "id": "ZHPoY2IpqgSj",
        "outputId": "96b7f5c8-ba7b-4ecc-9059-eeac032f5d7e"
      },
      "source": [
        "## Obtiene las descriptivas por Pais\n",
        "transacciones.groupby('Country').describe()"
      ],
      "execution_count": null,
      "outputs": [
        {
          "output_type": "execute_result",
          "data": {
            "text/html": [
              "<div>\n",
              "<style scoped>\n",
              "    .dataframe tbody tr th:only-of-type {\n",
              "        vertical-align: middle;\n",
              "    }\n",
              "\n",
              "    .dataframe tbody tr th {\n",
              "        vertical-align: top;\n",
              "    }\n",
              "\n",
              "    .dataframe thead tr th {\n",
              "        text-align: left;\n",
              "    }\n",
              "\n",
              "    .dataframe thead tr:last-of-type th {\n",
              "        text-align: right;\n",
              "    }\n",
              "</style>\n",
              "<table border=\"1\" class=\"dataframe\">\n",
              "  <thead>\n",
              "    <tr>\n",
              "      <th></th>\n",
              "      <th colspan=\"8\" halign=\"left\">Quantity</th>\n",
              "      <th colspan=\"8\" halign=\"left\">UnitPrice</th>\n",
              "      <th colspan=\"8\" halign=\"left\">Cantidad_10</th>\n",
              "    </tr>\n",
              "    <tr>\n",
              "      <th></th>\n",
              "      <th>count</th>\n",
              "      <th>mean</th>\n",
              "      <th>std</th>\n",
              "      <th>min</th>\n",
              "      <th>25%</th>\n",
              "      <th>50%</th>\n",
              "      <th>75%</th>\n",
              "      <th>max</th>\n",
              "      <th>count</th>\n",
              "      <th>mean</th>\n",
              "      <th>std</th>\n",
              "      <th>min</th>\n",
              "      <th>25%</th>\n",
              "      <th>50%</th>\n",
              "      <th>75%</th>\n",
              "      <th>max</th>\n",
              "      <th>count</th>\n",
              "      <th>mean</th>\n",
              "      <th>std</th>\n",
              "      <th>min</th>\n",
              "      <th>25%</th>\n",
              "      <th>50%</th>\n",
              "      <th>75%</th>\n",
              "      <th>max</th>\n",
              "    </tr>\n",
              "    <tr>\n",
              "      <th>Country</th>\n",
              "      <th></th>\n",
              "      <th></th>\n",
              "      <th></th>\n",
              "      <th></th>\n",
              "      <th></th>\n",
              "      <th></th>\n",
              "      <th></th>\n",
              "      <th></th>\n",
              "      <th></th>\n",
              "      <th></th>\n",
              "      <th></th>\n",
              "      <th></th>\n",
              "      <th></th>\n",
              "      <th></th>\n",
              "      <th></th>\n",
              "      <th></th>\n",
              "      <th></th>\n",
              "      <th></th>\n",
              "      <th></th>\n",
              "      <th></th>\n",
              "      <th></th>\n",
              "      <th></th>\n",
              "      <th></th>\n",
              "      <th></th>\n",
              "    </tr>\n",
              "  </thead>\n",
              "  <tbody>\n",
              "    <tr>\n",
              "      <th>Australia</th>\n",
              "      <td>40.0</td>\n",
              "      <td>69.125000</td>\n",
              "      <td>106.699960</td>\n",
              "      <td>-1.0</td>\n",
              "      <td>6.00</td>\n",
              "      <td>21.0</td>\n",
              "      <td>107.00</td>\n",
              "      <td>600.0</td>\n",
              "      <td>40.0</td>\n",
              "      <td>186.750000</td>\n",
              "      <td>236.328189</td>\n",
              "      <td>0.0</td>\n",
              "      <td>72.00</td>\n",
              "      <td>165.0</td>\n",
              "      <td>249.0</td>\n",
              "      <td>1495.0</td>\n",
              "      <td>40.0</td>\n",
              "      <td>691.250000</td>\n",
              "      <td>1066.999597</td>\n",
              "      <td>-10.0</td>\n",
              "      <td>60.0</td>\n",
              "      <td>210.0</td>\n",
              "      <td>1070.0</td>\n",
              "      <td>6000.0</td>\n",
              "    </tr>\n",
              "    <tr>\n",
              "      <th>Austria</th>\n",
              "      <td>11.0</td>\n",
              "      <td>12.909091</td>\n",
              "      <td>8.312094</td>\n",
              "      <td>4.0</td>\n",
              "      <td>6.00</td>\n",
              "      <td>8.0</td>\n",
              "      <td>22.00</td>\n",
              "      <td>24.0</td>\n",
              "      <td>11.0</td>\n",
              "      <td>202.909091</td>\n",
              "      <td>150.934724</td>\n",
              "      <td>12.0</td>\n",
              "      <td>85.00</td>\n",
              "      <td>195.0</td>\n",
              "      <td>332.0</td>\n",
              "      <td>415.0</td>\n",
              "      <td>11.0</td>\n",
              "      <td>129.090909</td>\n",
              "      <td>83.120941</td>\n",
              "      <td>40.0</td>\n",
              "      <td>60.0</td>\n",
              "      <td>80.0</td>\n",
              "      <td>220.0</td>\n",
              "      <td>240.0</td>\n",
              "    </tr>\n",
              "    <tr>\n",
              "      <th>Bahrain</th>\n",
              "      <td>1.0</td>\n",
              "      <td>8.000000</td>\n",
              "      <td>NaN</td>\n",
              "      <td>8.0</td>\n",
              "      <td>8.00</td>\n",
              "      <td>8.0</td>\n",
              "      <td>8.00</td>\n",
              "      <td>8.0</td>\n",
              "      <td>1.0</td>\n",
              "      <td>145.000000</td>\n",
              "      <td>NaN</td>\n",
              "      <td>145.0</td>\n",
              "      <td>145.00</td>\n",
              "      <td>145.0</td>\n",
              "      <td>145.0</td>\n",
              "      <td>145.0</td>\n",
              "      <td>1.0</td>\n",
              "      <td>80.000000</td>\n",
              "      <td>NaN</td>\n",
              "      <td>80.0</td>\n",
              "      <td>80.0</td>\n",
              "      <td>80.0</td>\n",
              "      <td>80.0</td>\n",
              "      <td>80.0</td>\n",
              "    </tr>\n",
              "    <tr>\n",
              "      <th>Belgium</th>\n",
              "      <td>48.0</td>\n",
              "      <td>8.187500</td>\n",
              "      <td>4.823066</td>\n",
              "      <td>1.0</td>\n",
              "      <td>4.75</td>\n",
              "      <td>6.0</td>\n",
              "      <td>12.00</td>\n",
              "      <td>20.0</td>\n",
              "      <td>48.0</td>\n",
              "      <td>253.104167</td>\n",
              "      <td>248.635702</td>\n",
              "      <td>21.0</td>\n",
              "      <td>115.00</td>\n",
              "      <td>231.5</td>\n",
              "      <td>315.0</td>\n",
              "      <td>1695.0</td>\n",
              "      <td>48.0</td>\n",
              "      <td>81.875000</td>\n",
              "      <td>48.230663</td>\n",
              "      <td>10.0</td>\n",
              "      <td>47.5</td>\n",
              "      <td>60.0</td>\n",
              "      <td>120.0</td>\n",
              "      <td>200.0</td>\n",
              "    </tr>\n",
              "    <tr>\n",
              "      <th>Canada</th>\n",
              "      <td>3.0</td>\n",
              "      <td>9.333333</td>\n",
              "      <td>4.618802</td>\n",
              "      <td>4.0</td>\n",
              "      <td>8.00</td>\n",
              "      <td>12.0</td>\n",
              "      <td>12.00</td>\n",
              "      <td>12.0</td>\n",
              "      <td>3.0</td>\n",
              "      <td>271.666667</td>\n",
              "      <td>132.790562</td>\n",
              "      <td>195.0</td>\n",
              "      <td>195.00</td>\n",
              "      <td>195.0</td>\n",
              "      <td>310.0</td>\n",
              "      <td>425.0</td>\n",
              "      <td>3.0</td>\n",
              "      <td>93.333333</td>\n",
              "      <td>46.188022</td>\n",
              "      <td>40.0</td>\n",
              "      <td>80.0</td>\n",
              "      <td>120.0</td>\n",
              "      <td>120.0</td>\n",
              "      <td>120.0</td>\n",
              "    </tr>\n",
              "    <tr>\n",
              "      <th>Channel Islands</th>\n",
              "      <td>20.0</td>\n",
              "      <td>9.200000</td>\n",
              "      <td>6.228965</td>\n",
              "      <td>2.0</td>\n",
              "      <td>5.00</td>\n",
              "      <td>6.0</td>\n",
              "      <td>12.00</td>\n",
              "      <td>24.0</td>\n",
              "      <td>20.0</td>\n",
              "      <td>277.850000</td>\n",
              "      <td>274.488860</td>\n",
              "      <td>21.0</td>\n",
              "      <td>85.00</td>\n",
              "      <td>255.0</td>\n",
              "      <td>295.0</td>\n",
              "      <td>995.0</td>\n",
              "      <td>20.0</td>\n",
              "      <td>92.000000</td>\n",
              "      <td>62.289646</td>\n",
              "      <td>20.0</td>\n",
              "      <td>50.0</td>\n",
              "      <td>60.0</td>\n",
              "      <td>120.0</td>\n",
              "      <td>240.0</td>\n",
              "    </tr>\n",
              "    <tr>\n",
              "      <th>Cyprus</th>\n",
              "      <td>16.0</td>\n",
              "      <td>7.125000</td>\n",
              "      <td>6.130525</td>\n",
              "      <td>1.0</td>\n",
              "      <td>2.00</td>\n",
              "      <td>5.5</td>\n",
              "      <td>10.50</td>\n",
              "      <td>24.0</td>\n",
              "      <td>16.0</td>\n",
              "      <td>502.250000</td>\n",
              "      <td>965.170417</td>\n",
              "      <td>21.0</td>\n",
              "      <td>115.00</td>\n",
              "      <td>201.5</td>\n",
              "      <td>387.5</td>\n",
              "      <td>3995.0</td>\n",
              "      <td>16.0</td>\n",
              "      <td>71.250000</td>\n",
              "      <td>61.305247</td>\n",
              "      <td>10.0</td>\n",
              "      <td>20.0</td>\n",
              "      <td>55.0</td>\n",
              "      <td>105.0</td>\n",
              "      <td>240.0</td>\n",
              "    </tr>\n",
              "    <tr>\n",
              "      <th>Czech Republic</th>\n",
              "      <td>1.0</td>\n",
              "      <td>24.000000</td>\n",
              "      <td>NaN</td>\n",
              "      <td>24.0</td>\n",
              "      <td>24.00</td>\n",
              "      <td>24.0</td>\n",
              "      <td>24.00</td>\n",
              "      <td>24.0</td>\n",
              "      <td>1.0</td>\n",
              "      <td>125.000000</td>\n",
              "      <td>NaN</td>\n",
              "      <td>125.0</td>\n",
              "      <td>125.00</td>\n",
              "      <td>125.0</td>\n",
              "      <td>125.0</td>\n",
              "      <td>125.0</td>\n",
              "      <td>1.0</td>\n",
              "      <td>240.000000</td>\n",
              "      <td>NaN</td>\n",
              "      <td>240.0</td>\n",
              "      <td>240.0</td>\n",
              "      <td>240.0</td>\n",
              "      <td>240.0</td>\n",
              "      <td>240.0</td>\n",
              "    </tr>\n",
              "    <tr>\n",
              "      <th>Denmark</th>\n",
              "      <td>14.0</td>\n",
              "      <td>17.428571</td>\n",
              "      <td>18.780982</td>\n",
              "      <td>-5.0</td>\n",
              "      <td>12.00</td>\n",
              "      <td>12.0</td>\n",
              "      <td>18.00</td>\n",
              "      <td>72.0</td>\n",
              "      <td>14.0</td>\n",
              "      <td>237.142857</td>\n",
              "      <td>176.309543</td>\n",
              "      <td>21.0</td>\n",
              "      <td>95.00</td>\n",
              "      <td>201.5</td>\n",
              "      <td>383.5</td>\n",
              "      <td>595.0</td>\n",
              "      <td>14.0</td>\n",
              "      <td>174.285714</td>\n",
              "      <td>187.809817</td>\n",
              "      <td>-50.0</td>\n",
              "      <td>120.0</td>\n",
              "      <td>120.0</td>\n",
              "      <td>180.0</td>\n",
              "      <td>720.0</td>\n",
              "    </tr>\n",
              "    <tr>\n",
              "      <th>EIRE</th>\n",
              "      <td>163.0</td>\n",
              "      <td>16.668712</td>\n",
              "      <td>28.689279</td>\n",
              "      <td>-10.0</td>\n",
              "      <td>4.50</td>\n",
              "      <td>10.0</td>\n",
              "      <td>12.00</td>\n",
              "      <td>240.0</td>\n",
              "      <td>163.0</td>\n",
              "      <td>411.319018</td>\n",
              "      <td>755.412182</td>\n",
              "      <td>6.0</td>\n",
              "      <td>106.00</td>\n",
              "      <td>195.0</td>\n",
              "      <td>375.0</td>\n",
              "      <td>4995.0</td>\n",
              "      <td>163.0</td>\n",
              "      <td>166.687117</td>\n",
              "      <td>286.892795</td>\n",
              "      <td>-100.0</td>\n",
              "      <td>45.0</td>\n",
              "      <td>100.0</td>\n",
              "      <td>120.0</td>\n",
              "      <td>2400.0</td>\n",
              "    </tr>\n",
              "    <tr>\n",
              "      <th>Finland</th>\n",
              "      <td>27.0</td>\n",
              "      <td>27.000000</td>\n",
              "      <td>27.929857</td>\n",
              "      <td>3.0</td>\n",
              "      <td>6.00</td>\n",
              "      <td>12.0</td>\n",
              "      <td>54.00</td>\n",
              "      <td>72.0</td>\n",
              "      <td>27.0</td>\n",
              "      <td>314.000000</td>\n",
              "      <td>230.591714</td>\n",
              "      <td>12.0</td>\n",
              "      <td>125.00</td>\n",
              "      <td>295.0</td>\n",
              "      <td>375.0</td>\n",
              "      <td>1275.0</td>\n",
              "      <td>27.0</td>\n",
              "      <td>270.000000</td>\n",
              "      <td>279.298572</td>\n",
              "      <td>30.0</td>\n",
              "      <td>60.0</td>\n",
              "      <td>120.0</td>\n",
              "      <td>540.0</td>\n",
              "      <td>720.0</td>\n",
              "    </tr>\n",
              "    <tr>\n",
              "      <th>France</th>\n",
              "      <td>231.0</td>\n",
              "      <td>13.709957</td>\n",
              "      <td>24.161555</td>\n",
              "      <td>-16.0</td>\n",
              "      <td>6.00</td>\n",
              "      <td>8.0</td>\n",
              "      <td>12.00</td>\n",
              "      <td>240.0</td>\n",
              "      <td>231.0</td>\n",
              "      <td>228.199134</td>\n",
              "      <td>277.848918</td>\n",
              "      <td>6.0</td>\n",
              "      <td>85.00</td>\n",
              "      <td>195.0</td>\n",
              "      <td>255.0</td>\n",
              "      <td>1695.0</td>\n",
              "      <td>231.0</td>\n",
              "      <td>137.099567</td>\n",
              "      <td>241.615547</td>\n",
              "      <td>-160.0</td>\n",
              "      <td>60.0</td>\n",
              "      <td>80.0</td>\n",
              "      <td>120.0</td>\n",
              "      <td>2400.0</td>\n",
              "    </tr>\n",
              "    <tr>\n",
              "      <th>Germany</th>\n",
              "      <td>221.0</td>\n",
              "      <td>14.316742</td>\n",
              "      <td>45.901566</td>\n",
              "      <td>-12.0</td>\n",
              "      <td>5.00</td>\n",
              "      <td>6.0</td>\n",
              "      <td>12.00</td>\n",
              "      <td>600.0</td>\n",
              "      <td>221.0</td>\n",
              "      <td>262.515837</td>\n",
              "      <td>406.413880</td>\n",
              "      <td>6.0</td>\n",
              "      <td>65.00</td>\n",
              "      <td>195.0</td>\n",
              "      <td>289.0</td>\n",
              "      <td>3995.0</td>\n",
              "      <td>221.0</td>\n",
              "      <td>143.167421</td>\n",
              "      <td>459.015660</td>\n",
              "      <td>-120.0</td>\n",
              "      <td>50.0</td>\n",
              "      <td>60.0</td>\n",
              "      <td>120.0</td>\n",
              "      <td>6000.0</td>\n",
              "    </tr>\n",
              "    <tr>\n",
              "      <th>Greece</th>\n",
              "      <td>1.0</td>\n",
              "      <td>12.000000</td>\n",
              "      <td>NaN</td>\n",
              "      <td>12.0</td>\n",
              "      <td>12.00</td>\n",
              "      <td>12.0</td>\n",
              "      <td>12.00</td>\n",
              "      <td>12.0</td>\n",
              "      <td>1.0</td>\n",
              "      <td>125.000000</td>\n",
              "      <td>NaN</td>\n",
              "      <td>125.0</td>\n",
              "      <td>125.00</td>\n",
              "      <td>125.0</td>\n",
              "      <td>125.0</td>\n",
              "      <td>125.0</td>\n",
              "      <td>1.0</td>\n",
              "      <td>120.000000</td>\n",
              "      <td>NaN</td>\n",
              "      <td>120.0</td>\n",
              "      <td>120.0</td>\n",
              "      <td>120.0</td>\n",
              "      <td>120.0</td>\n",
              "      <td>120.0</td>\n",
              "    </tr>\n",
              "    <tr>\n",
              "      <th>Hong Kong</th>\n",
              "      <td>8.0</td>\n",
              "      <td>22.375000</td>\n",
              "      <td>15.117988</td>\n",
              "      <td>6.0</td>\n",
              "      <td>11.00</td>\n",
              "      <td>20.0</td>\n",
              "      <td>28.75</td>\n",
              "      <td>48.0</td>\n",
              "      <td>8.0</td>\n",
              "      <td>255.750000</td>\n",
              "      <td>167.054952</td>\n",
              "      <td>21.0</td>\n",
              "      <td>115.00</td>\n",
              "      <td>285.0</td>\n",
              "      <td>415.0</td>\n",
              "      <td>415.0</td>\n",
              "      <td>8.0</td>\n",
              "      <td>223.750000</td>\n",
              "      <td>151.179883</td>\n",
              "      <td>60.0</td>\n",
              "      <td>110.0</td>\n",
              "      <td>200.0</td>\n",
              "      <td>287.5</td>\n",
              "      <td>480.0</td>\n",
              "    </tr>\n",
              "    <tr>\n",
              "      <th>Iceland</th>\n",
              "      <td>6.0</td>\n",
              "      <td>8.333333</td>\n",
              "      <td>4.082483</td>\n",
              "      <td>4.0</td>\n",
              "      <td>4.50</td>\n",
              "      <td>9.0</td>\n",
              "      <td>12.00</td>\n",
              "      <td>12.0</td>\n",
              "      <td>6.0</td>\n",
              "      <td>290.000000</td>\n",
              "      <td>133.379159</td>\n",
              "      <td>125.0</td>\n",
              "      <td>195.00</td>\n",
              "      <td>285.0</td>\n",
              "      <td>412.5</td>\n",
              "      <td>425.0</td>\n",
              "      <td>6.0</td>\n",
              "      <td>83.333333</td>\n",
              "      <td>40.824829</td>\n",
              "      <td>40.0</td>\n",
              "      <td>45.0</td>\n",
              "      <td>90.0</td>\n",
              "      <td>120.0</td>\n",
              "      <td>120.0</td>\n",
              "    </tr>\n",
              "    <tr>\n",
              "      <th>Israel</th>\n",
              "      <td>8.0</td>\n",
              "      <td>16.125000</td>\n",
              "      <td>17.389960</td>\n",
              "      <td>2.0</td>\n",
              "      <td>2.75</td>\n",
              "      <td>9.0</td>\n",
              "      <td>24.00</td>\n",
              "      <td>48.0</td>\n",
              "      <td>8.0</td>\n",
              "      <td>206.500000</td>\n",
              "      <td>138.657852</td>\n",
              "      <td>19.0</td>\n",
              "      <td>129.00</td>\n",
              "      <td>222.0</td>\n",
              "      <td>289.0</td>\n",
              "      <td>425.0</td>\n",
              "      <td>8.0</td>\n",
              "      <td>161.250000</td>\n",
              "      <td>173.899602</td>\n",
              "      <td>20.0</td>\n",
              "      <td>27.5</td>\n",
              "      <td>90.0</td>\n",
              "      <td>240.0</td>\n",
              "      <td>480.0</td>\n",
              "    </tr>\n",
              "    <tr>\n",
              "      <th>Italy</th>\n",
              "      <td>33.0</td>\n",
              "      <td>9.727273</td>\n",
              "      <td>5.007948</td>\n",
              "      <td>1.0</td>\n",
              "      <td>6.00</td>\n",
              "      <td>10.0</td>\n",
              "      <td>12.00</td>\n",
              "      <td>24.0</td>\n",
              "      <td>33.0</td>\n",
              "      <td>302.727273</td>\n",
              "      <td>727.039901</td>\n",
              "      <td>21.0</td>\n",
              "      <td>21.00</td>\n",
              "      <td>125.0</td>\n",
              "      <td>208.0</td>\n",
              "      <td>3995.0</td>\n",
              "      <td>33.0</td>\n",
              "      <td>97.272727</td>\n",
              "      <td>50.079482</td>\n",
              "      <td>10.0</td>\n",
              "      <td>60.0</td>\n",
              "      <td>100.0</td>\n",
              "      <td>120.0</td>\n",
              "      <td>240.0</td>\n",
              "    </tr>\n",
              "    <tr>\n",
              "      <th>Japan</th>\n",
              "      <td>5.0</td>\n",
              "      <td>24.800000</td>\n",
              "      <td>26.855167</td>\n",
              "      <td>-16.0</td>\n",
              "      <td>18.00</td>\n",
              "      <td>24.0</td>\n",
              "      <td>48.00</td>\n",
              "      <td>50.0</td>\n",
              "      <td>5.0</td>\n",
              "      <td>511.000000</td>\n",
              "      <td>577.433979</td>\n",
              "      <td>125.0</td>\n",
              "      <td>125.00</td>\n",
              "      <td>255.0</td>\n",
              "      <td>555.0</td>\n",
              "      <td>1495.0</td>\n",
              "      <td>5.0</td>\n",
              "      <td>248.000000</td>\n",
              "      <td>268.551671</td>\n",
              "      <td>-160.0</td>\n",
              "      <td>180.0</td>\n",
              "      <td>240.0</td>\n",
              "      <td>480.0</td>\n",
              "      <td>500.0</td>\n",
              "    </tr>\n",
              "    <tr>\n",
              "      <th>Lebanon</th>\n",
              "      <td>2.0</td>\n",
              "      <td>9.000000</td>\n",
              "      <td>4.242641</td>\n",
              "      <td>6.0</td>\n",
              "      <td>7.50</td>\n",
              "      <td>9.0</td>\n",
              "      <td>10.50</td>\n",
              "      <td>12.0</td>\n",
              "      <td>2.0</td>\n",
              "      <td>138.000000</td>\n",
              "      <td>165.462987</td>\n",
              "      <td>21.0</td>\n",
              "      <td>79.50</td>\n",
              "      <td>138.0</td>\n",
              "      <td>196.5</td>\n",
              "      <td>255.0</td>\n",
              "      <td>2.0</td>\n",
              "      <td>90.000000</td>\n",
              "      <td>42.426407</td>\n",
              "      <td>60.0</td>\n",
              "      <td>75.0</td>\n",
              "      <td>90.0</td>\n",
              "      <td>105.0</td>\n",
              "      <td>120.0</td>\n",
              "    </tr>\n",
              "    <tr>\n",
              "      <th>Malta</th>\n",
              "      <td>4.0</td>\n",
              "      <td>4.000000</td>\n",
              "      <td>2.828427</td>\n",
              "      <td>2.0</td>\n",
              "      <td>2.00</td>\n",
              "      <td>3.0</td>\n",
              "      <td>5.00</td>\n",
              "      <td>8.0</td>\n",
              "      <td>4.0</td>\n",
              "      <td>637.500000</td>\n",
              "      <td>427.268456</td>\n",
              "      <td>145.0</td>\n",
              "      <td>347.50</td>\n",
              "      <td>705.0</td>\n",
              "      <td>995.0</td>\n",
              "      <td>995.0</td>\n",
              "      <td>4.0</td>\n",
              "      <td>40.000000</td>\n",
              "      <td>28.284271</td>\n",
              "      <td>20.0</td>\n",
              "      <td>20.0</td>\n",
              "      <td>30.0</td>\n",
              "      <td>50.0</td>\n",
              "      <td>80.0</td>\n",
              "    </tr>\n",
              "    <tr>\n",
              "      <th>Netherlands</th>\n",
              "      <td>47.0</td>\n",
              "      <td>81.617021</td>\n",
              "      <td>69.961031</td>\n",
              "      <td>1.0</td>\n",
              "      <td>18.00</td>\n",
              "      <td>72.0</td>\n",
              "      <td>144.00</td>\n",
              "      <td>288.0</td>\n",
              "      <td>47.0</td>\n",
              "      <td>284.063830</td>\n",
              "      <td>590.496527</td>\n",
              "      <td>21.0</td>\n",
              "      <td>106.00</td>\n",
              "      <td>179.0</td>\n",
              "      <td>309.0</td>\n",
              "      <td>4175.0</td>\n",
              "      <td>47.0</td>\n",
              "      <td>816.170213</td>\n",
              "      <td>699.610305</td>\n",
              "      <td>10.0</td>\n",
              "      <td>180.0</td>\n",
              "      <td>720.0</td>\n",
              "      <td>1440.0</td>\n",
              "      <td>2880.0</td>\n",
              "    </tr>\n",
              "    <tr>\n",
              "      <th>Norway</th>\n",
              "      <td>34.0</td>\n",
              "      <td>16.588235</td>\n",
              "      <td>15.503895</td>\n",
              "      <td>2.0</td>\n",
              "      <td>9.00</td>\n",
              "      <td>12.0</td>\n",
              "      <td>16.00</td>\n",
              "      <td>72.0</td>\n",
              "      <td>34.0</td>\n",
              "      <td>333.294118</td>\n",
              "      <td>605.050087</td>\n",
              "      <td>21.0</td>\n",
              "      <td>83.50</td>\n",
              "      <td>125.0</td>\n",
              "      <td>353.5</td>\n",
              "      <td>3495.0</td>\n",
              "      <td>34.0</td>\n",
              "      <td>165.882353</td>\n",
              "      <td>155.038952</td>\n",
              "      <td>20.0</td>\n",
              "      <td>90.0</td>\n",
              "      <td>120.0</td>\n",
              "      <td>160.0</td>\n",
              "      <td>720.0</td>\n",
              "    </tr>\n",
              "    <tr>\n",
              "      <th>Poland</th>\n",
              "      <td>6.0</td>\n",
              "      <td>7.833333</td>\n",
              "      <td>5.741661</td>\n",
              "      <td>1.0</td>\n",
              "      <td>3.50</td>\n",
              "      <td>8.0</td>\n",
              "      <td>11.00</td>\n",
              "      <td>16.0</td>\n",
              "      <td>6.0</td>\n",
              "      <td>971.666667</td>\n",
              "      <td>1549.163215</td>\n",
              "      <td>125.0</td>\n",
              "      <td>145.00</td>\n",
              "      <td>145.0</td>\n",
              "      <td>992.5</td>\n",
              "      <td>3995.0</td>\n",
              "      <td>6.0</td>\n",
              "      <td>78.333333</td>\n",
              "      <td>57.416606</td>\n",
              "      <td>10.0</td>\n",
              "      <td>35.0</td>\n",
              "      <td>80.0</td>\n",
              "      <td>110.0</td>\n",
              "      <td>160.0</td>\n",
              "    </tr>\n",
              "    <tr>\n",
              "      <th>Portugal</th>\n",
              "      <td>34.0</td>\n",
              "      <td>10.264706</td>\n",
              "      <td>9.639907</td>\n",
              "      <td>1.0</td>\n",
              "      <td>5.00</td>\n",
              "      <td>9.0</td>\n",
              "      <td>11.50</td>\n",
              "      <td>48.0</td>\n",
              "      <td>34.0</td>\n",
              "      <td>200.205882</td>\n",
              "      <td>178.508769</td>\n",
              "      <td>21.0</td>\n",
              "      <td>80.50</td>\n",
              "      <td>180.0</td>\n",
              "      <td>255.0</td>\n",
              "      <td>995.0</td>\n",
              "      <td>34.0</td>\n",
              "      <td>102.647059</td>\n",
              "      <td>96.399070</td>\n",
              "      <td>10.0</td>\n",
              "      <td>50.0</td>\n",
              "      <td>90.0</td>\n",
              "      <td>115.0</td>\n",
              "      <td>480.0</td>\n",
              "    </tr>\n",
              "    <tr>\n",
              "      <th>RSA</th>\n",
              "      <td>1.0</td>\n",
              "      <td>5.000000</td>\n",
              "      <td>NaN</td>\n",
              "      <td>5.0</td>\n",
              "      <td>5.00</td>\n",
              "      <td>5.0</td>\n",
              "      <td>5.00</td>\n",
              "      <td>5.0</td>\n",
              "      <td>1.0</td>\n",
              "      <td>21.000000</td>\n",
              "      <td>NaN</td>\n",
              "      <td>21.0</td>\n",
              "      <td>21.00</td>\n",
              "      <td>21.0</td>\n",
              "      <td>21.0</td>\n",
              "      <td>21.0</td>\n",
              "      <td>1.0</td>\n",
              "      <td>50.000000</td>\n",
              "      <td>NaN</td>\n",
              "      <td>50.0</td>\n",
              "      <td>50.0</td>\n",
              "      <td>50.0</td>\n",
              "      <td>50.0</td>\n",
              "      <td>50.0</td>\n",
              "    </tr>\n",
              "    <tr>\n",
              "      <th>Singapore</th>\n",
              "      <td>11.0</td>\n",
              "      <td>19.636364</td>\n",
              "      <td>21.332008</td>\n",
              "      <td>4.0</td>\n",
              "      <td>7.00</td>\n",
              "      <td>12.0</td>\n",
              "      <td>18.00</td>\n",
              "      <td>72.0</td>\n",
              "      <td>11.0</td>\n",
              "      <td>198.636364</td>\n",
              "      <td>128.706855</td>\n",
              "      <td>85.0</td>\n",
              "      <td>85.00</td>\n",
              "      <td>125.0</td>\n",
              "      <td>255.0</td>\n",
              "      <td>415.0</td>\n",
              "      <td>11.0</td>\n",
              "      <td>196.363636</td>\n",
              "      <td>213.320075</td>\n",
              "      <td>40.0</td>\n",
              "      <td>70.0</td>\n",
              "      <td>120.0</td>\n",
              "      <td>180.0</td>\n",
              "      <td>720.0</td>\n",
              "    </tr>\n",
              "    <tr>\n",
              "      <th>Spain</th>\n",
              "      <td>51.0</td>\n",
              "      <td>26.941176</td>\n",
              "      <td>84.411234</td>\n",
              "      <td>-16.0</td>\n",
              "      <td>2.00</td>\n",
              "      <td>6.0</td>\n",
              "      <td>11.00</td>\n",
              "      <td>360.0</td>\n",
              "      <td>51.0</td>\n",
              "      <td>392.745098</td>\n",
              "      <td>806.044982</td>\n",
              "      <td>12.0</td>\n",
              "      <td>85.00</td>\n",
              "      <td>208.0</td>\n",
              "      <td>375.0</td>\n",
              "      <td>4175.0</td>\n",
              "      <td>51.0</td>\n",
              "      <td>269.411765</td>\n",
              "      <td>844.112343</td>\n",
              "      <td>-160.0</td>\n",
              "      <td>20.0</td>\n",
              "      <td>60.0</td>\n",
              "      <td>110.0</td>\n",
              "      <td>3600.0</td>\n",
              "    </tr>\n",
              "    <tr>\n",
              "      <th>Sweden</th>\n",
              "      <td>20.0</td>\n",
              "      <td>87.050000</td>\n",
              "      <td>166.922130</td>\n",
              "      <td>4.0</td>\n",
              "      <td>5.75</td>\n",
              "      <td>11.0</td>\n",
              "      <td>108.00</td>\n",
              "      <td>720.0</td>\n",
              "      <td>20.0</td>\n",
              "      <td>181.750000</td>\n",
              "      <td>147.739057</td>\n",
              "      <td>21.0</td>\n",
              "      <td>74.25</td>\n",
              "      <td>105.0</td>\n",
              "      <td>289.0</td>\n",
              "      <td>415.0</td>\n",
              "      <td>20.0</td>\n",
              "      <td>870.500000</td>\n",
              "      <td>1669.221297</td>\n",
              "      <td>40.0</td>\n",
              "      <td>57.5</td>\n",
              "      <td>110.0</td>\n",
              "      <td>1080.0</td>\n",
              "      <td>7200.0</td>\n",
              "    </tr>\n",
              "    <tr>\n",
              "      <th>Switzerland</th>\n",
              "      <td>36.0</td>\n",
              "      <td>10.777778</td>\n",
              "      <td>11.481939</td>\n",
              "      <td>-5.0</td>\n",
              "      <td>4.00</td>\n",
              "      <td>6.0</td>\n",
              "      <td>12.00</td>\n",
              "      <td>48.0</td>\n",
              "      <td>36.0</td>\n",
              "      <td>239.055556</td>\n",
              "      <td>128.278702</td>\n",
              "      <td>19.0</td>\n",
              "      <td>163.00</td>\n",
              "      <td>228.5</td>\n",
              "      <td>348.0</td>\n",
              "      <td>425.0</td>\n",
              "      <td>36.0</td>\n",
              "      <td>107.777778</td>\n",
              "      <td>114.819389</td>\n",
              "      <td>-50.0</td>\n",
              "      <td>40.0</td>\n",
              "      <td>60.0</td>\n",
              "      <td>120.0</td>\n",
              "      <td>480.0</td>\n",
              "    </tr>\n",
              "    <tr>\n",
              "      <th>USA</th>\n",
              "      <td>2.0</td>\n",
              "      <td>7.000000</td>\n",
              "      <td>1.414214</td>\n",
              "      <td>6.0</td>\n",
              "      <td>6.50</td>\n",
              "      <td>7.0</td>\n",
              "      <td>7.50</td>\n",
              "      <td>8.0</td>\n",
              "      <td>2.0</td>\n",
              "      <td>335.000000</td>\n",
              "      <td>113.137085</td>\n",
              "      <td>255.0</td>\n",
              "      <td>295.00</td>\n",
              "      <td>335.0</td>\n",
              "      <td>375.0</td>\n",
              "      <td>415.0</td>\n",
              "      <td>2.0</td>\n",
              "      <td>70.000000</td>\n",
              "      <td>14.142136</td>\n",
              "      <td>60.0</td>\n",
              "      <td>65.0</td>\n",
              "      <td>70.0</td>\n",
              "      <td>75.0</td>\n",
              "      <td>80.0</td>\n",
              "    </tr>\n",
              "    <tr>\n",
              "      <th>United Arab Emirates</th>\n",
              "      <td>2.0</td>\n",
              "      <td>15.000000</td>\n",
              "      <td>12.727922</td>\n",
              "      <td>6.0</td>\n",
              "      <td>10.50</td>\n",
              "      <td>15.0</td>\n",
              "      <td>19.50</td>\n",
              "      <td>24.0</td>\n",
              "      <td>2.0</td>\n",
              "      <td>875.000000</td>\n",
              "      <td>876.812409</td>\n",
              "      <td>255.0</td>\n",
              "      <td>565.00</td>\n",
              "      <td>875.0</td>\n",
              "      <td>1185.0</td>\n",
              "      <td>1495.0</td>\n",
              "      <td>2.0</td>\n",
              "      <td>150.000000</td>\n",
              "      <td>127.279221</td>\n",
              "      <td>60.0</td>\n",
              "      <td>105.0</td>\n",
              "      <td>150.0</td>\n",
              "      <td>195.0</td>\n",
              "      <td>240.0</td>\n",
              "    </tr>\n",
              "    <tr>\n",
              "      <th>United Kingdom</th>\n",
              "      <td>14555.0</td>\n",
              "      <td>8.432635</td>\n",
              "      <td>39.193483</td>\n",
              "      <td>-2376.0</td>\n",
              "      <td>1.00</td>\n",
              "      <td>3.0</td>\n",
              "      <td>8.00</td>\n",
              "      <td>1200.0</td>\n",
              "      <td>14555.0</td>\n",
              "      <td>318.964823</td>\n",
              "      <td>570.884085</td>\n",
              "      <td>0.0</td>\n",
              "      <td>85.00</td>\n",
              "      <td>195.0</td>\n",
              "      <td>413.0</td>\n",
              "      <td>9996.0</td>\n",
              "      <td>14555.0</td>\n",
              "      <td>84.326348</td>\n",
              "      <td>391.934827</td>\n",
              "      <td>-23760.0</td>\n",
              "      <td>10.0</td>\n",
              "      <td>30.0</td>\n",
              "      <td>80.0</td>\n",
              "      <td>12000.0</td>\n",
              "    </tr>\n",
              "    <tr>\n",
              "      <th>Unspecified</th>\n",
              "      <td>15.0</td>\n",
              "      <td>5.666667</td>\n",
              "      <td>7.997023</td>\n",
              "      <td>1.0</td>\n",
              "      <td>1.00</td>\n",
              "      <td>2.0</td>\n",
              "      <td>5.00</td>\n",
              "      <td>24.0</td>\n",
              "      <td>15.0</td>\n",
              "      <td>175.466667</td>\n",
              "      <td>130.189349</td>\n",
              "      <td>21.0</td>\n",
              "      <td>104.00</td>\n",
              "      <td>125.0</td>\n",
              "      <td>248.5</td>\n",
              "      <td>425.0</td>\n",
              "      <td>15.0</td>\n",
              "      <td>56.666667</td>\n",
              "      <td>79.970233</td>\n",
              "      <td>10.0</td>\n",
              "      <td>10.0</td>\n",
              "      <td>20.0</td>\n",
              "      <td>50.0</td>\n",
              "      <td>240.0</td>\n",
              "    </tr>\n",
              "  </tbody>\n",
              "</table>\n",
              "</div>"
            ],
            "text/plain": [
              "                     Quantity                         ... Cantidad_10                 \n",
              "                        count       mean         std  ...         50%     75%      max\n",
              "Country                                               ...                             \n",
              "Australia                40.0  69.125000  106.699960  ...       210.0  1070.0   6000.0\n",
              "Austria                  11.0  12.909091    8.312094  ...        80.0   220.0    240.0\n",
              "Bahrain                   1.0   8.000000         NaN  ...        80.0    80.0     80.0\n",
              "Belgium                  48.0   8.187500    4.823066  ...        60.0   120.0    200.0\n",
              "Canada                    3.0   9.333333    4.618802  ...       120.0   120.0    120.0\n",
              "Channel Islands          20.0   9.200000    6.228965  ...        60.0   120.0    240.0\n",
              "Cyprus                   16.0   7.125000    6.130525  ...        55.0   105.0    240.0\n",
              "Czech Republic            1.0  24.000000         NaN  ...       240.0   240.0    240.0\n",
              "Denmark                  14.0  17.428571   18.780982  ...       120.0   180.0    720.0\n",
              "EIRE                    163.0  16.668712   28.689279  ...       100.0   120.0   2400.0\n",
              "Finland                  27.0  27.000000   27.929857  ...       120.0   540.0    720.0\n",
              "France                  231.0  13.709957   24.161555  ...        80.0   120.0   2400.0\n",
              "Germany                 221.0  14.316742   45.901566  ...        60.0   120.0   6000.0\n",
              "Greece                    1.0  12.000000         NaN  ...       120.0   120.0    120.0\n",
              "Hong Kong                 8.0  22.375000   15.117988  ...       200.0   287.5    480.0\n",
              "Iceland                   6.0   8.333333    4.082483  ...        90.0   120.0    120.0\n",
              "Israel                    8.0  16.125000   17.389960  ...        90.0   240.0    480.0\n",
              "Italy                    33.0   9.727273    5.007948  ...       100.0   120.0    240.0\n",
              "Japan                     5.0  24.800000   26.855167  ...       240.0   480.0    500.0\n",
              "Lebanon                   2.0   9.000000    4.242641  ...        90.0   105.0    120.0\n",
              "Malta                     4.0   4.000000    2.828427  ...        30.0    50.0     80.0\n",
              "Netherlands              47.0  81.617021   69.961031  ...       720.0  1440.0   2880.0\n",
              "Norway                   34.0  16.588235   15.503895  ...       120.0   160.0    720.0\n",
              "Poland                    6.0   7.833333    5.741661  ...        80.0   110.0    160.0\n",
              "Portugal                 34.0  10.264706    9.639907  ...        90.0   115.0    480.0\n",
              "RSA                       1.0   5.000000         NaN  ...        50.0    50.0     50.0\n",
              "Singapore                11.0  19.636364   21.332008  ...       120.0   180.0    720.0\n",
              "Spain                    51.0  26.941176   84.411234  ...        60.0   110.0   3600.0\n",
              "Sweden                   20.0  87.050000  166.922130  ...       110.0  1080.0   7200.0\n",
              "Switzerland              36.0  10.777778   11.481939  ...        60.0   120.0    480.0\n",
              "USA                       2.0   7.000000    1.414214  ...        70.0    75.0     80.0\n",
              "United Arab Emirates      2.0  15.000000   12.727922  ...       150.0   195.0    240.0\n",
              "United Kingdom        14555.0   8.432635   39.193483  ...        30.0    80.0  12000.0\n",
              "Unspecified              15.0   5.666667    7.997023  ...        20.0    50.0    240.0\n",
              "\n",
              "[34 rows x 24 columns]"
            ]
          },
          "metadata": {
            "tags": []
          },
          "execution_count": 45
        }
      ]
    },
    {
      "cell_type": "code",
      "metadata": {
        "id": "drufZBsZqo0V"
      },
      "source": [
        ""
      ],
      "execution_count": null,
      "outputs": []
    }
  ]
}