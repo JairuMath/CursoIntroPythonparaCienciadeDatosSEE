{
  "nbformat": 4,
  "nbformat_minor": 0,
  "metadata": {
    "colab": {
      "name": "Sesion2_Intro_PythonCienciasDatos.ipynb",
      "provenance": [],
      "authorship_tag": "ABX9TyOCm8r3VdsJxzyfulHTJYd5",
      "include_colab_link": true
    },
    "kernelspec": {
      "name": "python3",
      "display_name": "Python 3"
    },
    "language_info": {
      "name": "python"
    }
  },
  "cells": [
    {
      "cell_type": "markdown",
      "metadata": {
        "id": "view-in-github",
        "colab_type": "text"
      },
      "source": [
        "<a href=\"https://colab.research.google.com/github/JairuMath/CursoIntroPythonparaCienciadeDatosSEE/blob/main/Sesion2_Intro_PythonCienciasDatos.ipynb\" target=\"_parent\"><img src=\"https://colab.research.google.com/assets/colab-badge.svg\" alt=\"Open In Colab\"/></a>"
      ]
    },
    {
      "cell_type": "markdown",
      "metadata": {
        "id": "PuCs9sSQRTb7"
      },
      "source": [
        "> # Sesion 2> Curso Intro a Python para Ciencia de Datos\n",
        "\n",
        "# Primer Script en python\n",
        "\n",
        "\n",
        "\n"
      ]
    },
    {
      "cell_type": "code",
      "metadata": {
        "colab": {
          "base_uri": "https://localhost:8080/"
        },
        "id": "lTnf9dw3QZXl",
        "outputId": "917fb38c-13e5-4819-af35-2e5355f340b2"
      },
      "source": [
        "x=2\n",
        "x=x+2\n",
        "print(x)"
      ],
      "execution_count": 1,
      "outputs": [
        {
          "output_type": "stream",
          "text": [
            "4\n"
          ],
          "name": "stdout"
        }
      ]
    },
    {
      "cell_type": "code",
      "metadata": {
        "colab": {
          "base_uri": "https://localhost:8080/"
        },
        "id": "CtDoYLJHXQdk",
        "outputId": "da7f6210-754e-457b-bdc8-6e30adc330bb"
      },
      "source": [
        "x=5\n",
        "if x<10:\n",
        "  print('Más pequeño')\n",
        "if x>20:\n",
        "  print('Más grande')\n",
        "\n",
        "print('Finish')"
      ],
      "execution_count": 2,
      "outputs": [
        {
          "output_type": "stream",
          "text": [
            "Más pequeño\n",
            "Finish\n"
          ],
          "name": "stdout"
        }
      ]
    },
    {
      "cell_type": "code",
      "metadata": {
        "colab": {
          "base_uri": "https://localhost:8080/"
        },
        "id": "vL_X05NWYGAK",
        "outputId": "39fdb2ea-f51d-44f3-c206-2fc526c4d9fa"
      },
      "source": [
        "n=5\n",
        "while n>0:\n",
        "  print(n)\n",
        "  n=n-1\n",
        "\n",
        "print(\"Boooom\")"
      ],
      "execution_count": 4,
      "outputs": [
        {
          "output_type": "stream",
          "text": [
            "5\n",
            "4\n",
            "3\n",
            "2\n",
            "1\n",
            "Boooom\n"
          ],
          "name": "stdout"
        }
      ]
    },
    {
      "cell_type": "code",
      "metadata": {
        "colab": {
          "base_uri": "https://localhost:8080/"
        },
        "id": "m4De1INwYwoX",
        "outputId": "0305b523-edcf-4ef6-f603-cfb2f99f9712"
      },
      "source": [
        "print(123)"
      ],
      "execution_count": 5,
      "outputs": [
        {
          "output_type": "stream",
          "text": [
            "123\n"
          ],
          "name": "stdout"
        }
      ]
    },
    {
      "cell_type": "code",
      "metadata": {
        "colab": {
          "base_uri": "https://localhost:8080/"
        },
        "id": "1g8xBryuZttq",
        "outputId": "4c9cfb42-731f-4d6b-a917-7ca3d49cba82"
      },
      "source": [
        "print(98.6)"
      ],
      "execution_count": 6,
      "outputs": [
        {
          "output_type": "stream",
          "text": [
            "98.6\n"
          ],
          "name": "stdout"
        }
      ]
    },
    {
      "cell_type": "code",
      "metadata": {
        "colab": {
          "base_uri": "https://localhost:8080/"
        },
        "id": "DsscgHlcZxAZ",
        "outputId": "3f80b427-a495-41ba-98a4-3d3fc22aae1e"
      },
      "source": [
        "print('Hola Mundo')"
      ],
      "execution_count": 7,
      "outputs": [
        {
          "output_type": "stream",
          "text": [
            "Hola Mundo\n"
          ],
          "name": "stdout"
        }
      ]
    },
    {
      "cell_type": "code",
      "metadata": {
        "colab": {
          "base_uri": "https://localhost:8080/"
        },
        "id": "LbzIqaZ-Z32K",
        "outputId": "11a926bc-ebaf-43ca-a390-c4fa75d1599f"
      },
      "source": [
        "x=12.2\n",
        "y=14\n",
        "print(x)"
      ],
      "execution_count": 9,
      "outputs": [
        {
          "output_type": "stream",
          "text": [
            "12.2\n"
          ],
          "name": "stdout"
        }
      ]
    },
    {
      "cell_type": "code",
      "metadata": {
        "colab": {
          "base_uri": "https://localhost:8080/"
        },
        "id": "RI46_Kh3aBLm",
        "outputId": "e9127d98-f9bb-4d35-89c3-a2aa2886b41c"
      },
      "source": [
        "x=12.2\n",
        "y=14\n",
        "x=100\n",
        "print(x)"
      ],
      "execution_count": 10,
      "outputs": [
        {
          "output_type": "stream",
          "text": [
            "100\n"
          ],
          "name": "stdout"
        }
      ]
    },
    {
      "cell_type": "code",
      "metadata": {
        "colab": {
          "base_uri": "https://localhost:8080/"
        },
        "id": "JXffLCNFaPXv",
        "outputId": "9757e205-3d74-45cd-c5a2-52f78fee9400"
      },
      "source": [
        "x=2 #enunciado de asignación\n",
        "x=x+2 #enunciado con empresión \n",
        "print(x) #enunciado print (impresión)"
      ],
      "execution_count": 11,
      "outputs": [
        {
          "output_type": "stream",
          "text": [
            "4\n"
          ],
          "name": "stdout"
        }
      ]
    },
    {
      "cell_type": "code",
      "metadata": {
        "colab": {
          "base_uri": "https://localhost:8080/"
        },
        "id": "hPsF0DvSag_g",
        "outputId": "514d8053-ae81-4b72-e74b-395bc21cf26c"
      },
      "source": [
        "x1q3z9ocd=35.0  # nunca crear nombre con nombres así\n",
        "c=12.5 #escribr claro \n",
        "print(x1q3z9ocd)\n",
        "print(c)"
      ],
      "execution_count": 13,
      "outputs": [
        {
          "output_type": "stream",
          "text": [
            "35.0\n",
            "12.5\n"
          ],
          "name": "stdout"
        }
      ]
    },
    {
      "cell_type": "code",
      "metadata": {
        "colab": {
          "base_uri": "https://localhost:8080/"
        },
        "id": "hkMn71pFbC8y",
        "outputId": "73e3ae35-0ae6-44a6-aa35-168c448a9a7b"
      },
      "source": [
        "Horas=35.0\n",
        "Tarifas=12.50\n",
        "Salario=Horas*Tarifas\n",
        "print(Salario)"
      ],
      "execution_count": 15,
      "outputs": [
        {
          "output_type": "stream",
          "text": [
            "437.5\n"
          ],
          "name": "stdout"
        }
      ]
    },
    {
      "cell_type": "code",
      "metadata": {
        "colab": {
          "base_uri": "https://localhost:8080/"
        },
        "id": "O_X3jQkRbdhk",
        "outputId": "b49f64f3-be23-4ddb-9d55-bce19bc8d8f4"
      },
      "source": [
        "x=0.6\n",
        "y=3.9*x*(1-x)\n",
        "print(y)"
      ],
      "execution_count": 16,
      "outputs": [
        {
          "output_type": "stream",
          "text": [
            "0.9359999999999999\n"
          ],
          "name": "stdout"
        }
      ]
    },
    {
      "cell_type": "code",
      "metadata": {
        "id": "CW4cmSGKcJ-e"
      },
      "source": [
        " #Esto es un comentario"
      ],
      "execution_count": 17,
      "outputs": []
    },
    {
      "cell_type": "code",
      "metadata": {
        "colab": {
          "base_uri": "https://localhost:8080/"
        },
        "id": "8Ih5vLSPcWu6",
        "outputId": "82ee442d-b756-49fa-8aa7-be3a5a95fda3"
      },
      "source": [
        "# capturar información por teclado \n",
        "# Sumar número\n",
        "inp=input('Ingrese número')\n",
        "usf=int(inp)+1  #int: convierto el texto a número\n",
        "print(\"Número sumado 1->\",usf)"
      ],
      "execution_count": 19,
      "outputs": [
        {
          "output_type": "stream",
          "text": [
            "Ingrese número34\n",
            "Número sumado 1-> 35\n"
          ],
          "name": "stdout"
        }
      ]
    },
    {
      "cell_type": "code",
      "metadata": {
        "colab": {
          "base_uri": "https://localhost:8080/"
        },
        "id": "OubnlcyVdDto",
        "outputId": "b40cbad4-99f3-419c-e2f7-8f3814a92bf3"
      },
      "source": [
        "\"\"\"Este es un comentario multilínea.\n",
        "Podemos escribir tantas líneas queramos a modo de documentación.\"\"\"\n",
        "print(2)\n"
      ],
      "execution_count": 24,
      "outputs": [
        {
          "output_type": "stream",
          "text": [
            "2\n"
          ],
          "name": "stdout"
        }
      ]
    },
    {
      "cell_type": "code",
      "metadata": {
        "colab": {
          "base_uri": "https://localhost:8080/"
        },
        "id": "djhC95mQeQxD",
        "outputId": "58f751e1-c677-40ee-cce1-1e973c69a667"
      },
      "source": [
        "Horas=input('Ingrese las horas')\n",
        "CostoHora=input('Ingrese el costo por hora')\n",
        "usf1=int(Horas)\n",
        "usf2=int(CostoHora)\n",
        "sueldo=usf1*usf2\n",
        "print(\"Salario es: \", sueldo)"
      ],
      "execution_count": 31,
      "outputs": [
        {
          "output_type": "stream",
          "text": [
            "Ingrese las horas4\n",
            "Ingrese el costo por hora4\n",
            "Salario es:  16\n"
          ],
          "name": "stdout"
        }
      ]
    },
    {
      "cell_type": "code",
      "metadata": {
        "colab": {
          "base_uri": "https://localhost:8080/"
        },
        "id": "47bzFojuethW",
        "outputId": "b3b1ea83-6828-4a5f-ea78-aebf06517a89"
      },
      "source": [
        "# datos con decimales\n",
        "Horas=float(input('Ingrese las horas: '))\n",
        "CostoHora=float(input('Ingrese el costo por hora: '))\n",
        "sueldo=Horas*CostoHora\n",
        "print(\"Salario es: \", sueldo)"
      ],
      "execution_count": 34,
      "outputs": [
        {
          "output_type": "stream",
          "text": [
            "Ingrese las horas: 5\n",
            "Ingrese el costo por hora: 4.5\n",
            "Salario es:  22.5\n"
          ],
          "name": "stdout"
        }
      ]
    },
    {
      "cell_type": "code",
      "metadata": {
        "colab": {
          "base_uri": "https://localhost:8080/"
        },
        "id": "rEcYKzxyf_VE",
        "outputId": "268cd5ed-f989-4c9d-86b8-d0e9af88c669"
      },
      "source": [
        "n1=float(input('Ingrese el primer número: '))\n",
        "n2=float(input('Ingrese el segundo número: '))\n",
        "\n",
        "print('Suma: ',n1+n2)\n",
        "print('Resta: ',n1-n2)\n",
        "print('Multiplicación: ',n1*n2)\n",
        "print('Potencia: ',n1**n2)\n",
        "print('División: ',n1/n2)\n",
        "print('Modulo-Residuo: ',n1%n2) #residuo "
      ],
      "execution_count": 37,
      "outputs": [
        {
          "output_type": "stream",
          "text": [
            "Ingrese el primer número: 9\n",
            "Ingrese el segundo número: 2.5\n",
            "Suma:  11.5\n",
            "Resta:  6.5\n",
            "Multiplicación:  22.5\n",
            "Potencia:  243.0\n",
            "División:  3.6\n",
            "Modulo-Residuo:  1.5\n"
          ],
          "name": "stdout"
        }
      ]
    },
    {
      "cell_type": "code",
      "metadata": {
        "colab": {
          "base_uri": "https://localhost:8080/"
        },
        "id": "6spJf4xbg24y",
        "outputId": "f3899448-2ee1-4073-8ea8-28e7ee8409e8"
      },
      "source": [
        "a=input(\"Ingrese una variable\")\n",
        "print(a)\n",
        "type(a)\n"
      ],
      "execution_count": 41,
      "outputs": [
        {
          "output_type": "stream",
          "text": [
            "Ingrese una variable67\n",
            "67\n"
          ],
          "name": "stdout"
        },
        {
          "output_type": "execute_result",
          "data": {
            "text/plain": [
              "str"
            ]
          },
          "metadata": {
            "tags": []
          },
          "execution_count": 41
        }
      ]
    },
    {
      "cell_type": "code",
      "metadata": {
        "colab": {
          "base_uri": "https://localhost:8080/"
        },
        "id": "tHoEIPGMiElO",
        "outputId": "3b173230-12fb-4dcc-852b-e7f591e2cef2"
      },
      "source": [
        "#Convertir a entero\n",
        "a=float(a)\n",
        "print(a)\n",
        "type(a)"
      ],
      "execution_count": 42,
      "outputs": [
        {
          "output_type": "stream",
          "text": [
            "67.0\n"
          ],
          "name": "stdout"
        },
        {
          "output_type": "execute_result",
          "data": {
            "text/plain": [
              "float"
            ]
          },
          "metadata": {
            "tags": []
          },
          "execution_count": 42
        }
      ]
    },
    {
      "cell_type": "code",
      "metadata": {
        "colab": {
          "base_uri": "https://localhost:8080/"
        },
        "id": "v2_T9jmiidtH",
        "outputId": "e5e6e089-87c8-44e4-a8f5-668d2aeaa0d9"
      },
      "source": [
        "a=10\n",
        "b=50\n",
        "resultado1=a>b\n",
        "resultado2=b<a \n",
        "resultado3=a<b\n",
        "resultado4=not(b<a) \n",
        "print('resultado1',resultado1)\n",
        "print('resultado2',resultado2)\n",
        "print('resultado3',resultado3)\n",
        "print('resultado4',resultado4)"
      ],
      "execution_count": 48,
      "outputs": [
        {
          "output_type": "stream",
          "text": [
            "resultado1 False\n",
            "resultado2 False\n",
            "resultado3 True\n",
            "resultado4 True\n"
          ],
          "name": "stdout"
        }
      ]
    },
    {
      "cell_type": "code",
      "metadata": {
        "colab": {
          "base_uri": "https://localhost:8080/"
        },
        "id": "X2GDK66Lipig",
        "outputId": "da24514c-0ae7-45d4-80f4-a0b92bb5026a"
      },
      "source": [
        "a=10\n",
        "b=4\n",
        "c=8\n",
        "d=40\n",
        "resultado1= (a>b and c>d) # las dos proposiciones deben ser verdaderas\n",
        "resultado2= (a>b or c>d)  # almenos una proposición debe ser verdadera\n",
        "\n",
        "print(\"resultado1: \",resultado1)\n",
        "print(\"resultado2: \",resultado2)"
      ],
      "execution_count": 52,
      "outputs": [
        {
          "output_type": "stream",
          "text": [
            "resultado1:  False\n",
            "resultado2:  True\n"
          ],
          "name": "stdout"
        }
      ]
    },
    {
      "cell_type": "markdown",
      "metadata": {
        "id": "1uUp20VKnvyA"
      },
      "source": [
        "Tablas de Verdad Conjunción"
      ]
    },
    {
      "cell_type": "code",
      "metadata": {
        "colab": {
          "base_uri": "https://localhost:8080/"
        },
        "id": "b2NdlCeFjyFd",
        "outputId": "93e22182-ce74-4ce2-eea9-a18ee1617c1a"
      },
      "source": [
        "print(True ,' &', True, ' :', True and True)\n",
        "print(True ,' &', False, ':', True and False)\n",
        "print(False ,'&', True, ' :', False and True)\n",
        "print(False ,'&', False, ':', False and False)"
      ],
      "execution_count": 64,
      "outputs": [
        {
          "output_type": "stream",
          "text": [
            "True  & True  : True\n",
            "True  & False : False\n",
            "False & True  : False\n",
            "False & False : False\n"
          ],
          "name": "stdout"
        }
      ]
    },
    {
      "cell_type": "markdown",
      "metadata": {
        "id": "LFM4w3amn0cR"
      },
      "source": [
        "Tabla de Verdad Disyunción "
      ]
    },
    {
      "cell_type": "markdown",
      "metadata": {
        "id": "Q4kaVpFhnojg"
      },
      "source": [
        "Tabla de múltiplicar hasta el 10 de cualquier número que ingrese por teclado"
      ]
    },
    {
      "cell_type": "code",
      "metadata": {
        "colab": {
          "base_uri": "https://localhost:8080/"
        },
        "id": "RsQMT-BBnh7g",
        "outputId": "7056f80c-21a8-49b1-955c-c4033bb5c0f5"
      },
      "source": [
        "n=int(input('Ingrese un número por teclado: '))\n",
        "k=1\n",
        "while k<=10:\n",
        "  print(n,'x', k, '=', n*k)\n",
        "  k=k+1"
      ],
      "execution_count": 60,
      "outputs": [
        {
          "output_type": "stream",
          "text": [
            "Ingrese un número por teclado: 5\n",
            "5 x 1 = 5\n",
            "5 x 2 = 10\n",
            "5 x 3 = 15\n",
            "5 x 4 = 20\n",
            "5 x 5 = 25\n",
            "5 x 6 = 30\n",
            "5 x 7 = 35\n",
            "5 x 8 = 40\n",
            "5 x 9 = 45\n",
            "5 x 10 = 50\n"
          ],
          "name": "stdout"
        }
      ]
    },
    {
      "cell_type": "code",
      "metadata": {
        "id": "K0sX3Ff6oVE1"
      },
      "source": [
        ""
      ],
      "execution_count": null,
      "outputs": []
    }
  ]
}